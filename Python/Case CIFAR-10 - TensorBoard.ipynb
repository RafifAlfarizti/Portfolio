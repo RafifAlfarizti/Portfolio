{
 "cells": [
  {
   "cell_type": "code",
   "execution_count": 1,
   "id": "12b4ef4e",
   "metadata": {},
   "outputs": [],
   "source": [
    "%load_ext tensorboard\n",
    "import tensorflow as tf\n",
    "import datetime\n",
    "# Clear any logs from previous runs\n",
    "#rm -rf ./logs/"
   ]
  },
  {
   "cell_type": "code",
   "execution_count": 2,
   "id": "da866e9e",
   "metadata": {},
   "outputs": [
    {
     "name": "stdout",
     "output_type": "stream",
     "text": [
      "Downloading data from https://www.cs.toronto.edu/~kriz/cifar-10-python.tar.gz\n",
      "\u001b[1m170498071/170498071\u001b[0m \u001b[32m━━━━━━━━━━━━━━━━━━━━\u001b[0m\u001b[37m\u001b[0m \u001b[1m95s\u001b[0m 1us/step\n"
     ]
    }
   ],
   "source": [
    "# Mengambil data CIFAR-10\n",
    "(x_train, y_train), (x_test, y_test) = tf.keras.datasets.cifar10.load_data()"
   ]
  },
  {
   "cell_type": "code",
   "execution_count": 3,
   "id": "66cf20d6",
   "metadata": {},
   "outputs": [],
   "source": [
    "#Fungsi untuk membuat model\n",
    "def create_model():\n",
    "    return tf.keras.models.Sequential([\n",
    "        tf.keras.layers.Flatten(input_shape=(28, 28)),\n",
    "        tf.keras.layers.Dense(512, activation='relu'),\n",
    "        tf.keras.layers.Dropout(0.2),\n",
    "        tf.keras.layers.Dense(10, activation='softmax')\n",
    "  ])"
   ]
  },
  {
   "cell_type": "markdown",
   "id": "a44de28d",
   "metadata": {},
   "source": [
    "# Menyimpan file setelah run tensorboard"
   ]
  },
  {
   "cell_type": "code",
   "execution_count": 4,
   "id": "5668e1a4",
   "metadata": {},
   "outputs": [],
   "source": [
    "log_dir = \"new_logs\"\n",
    "tensorboard_callback = tf.keras.callbacks.TensorBoard(log_dir=log_dir, histogram_freq=1)"
   ]
  },
  {
   "cell_type": "markdown",
   "id": "4548b8ad",
   "metadata": {},
   "source": [
    "# Membuat model"
   ]
  },
  {
   "cell_type": "code",
   "execution_count": 18,
   "id": "0347eb69",
   "metadata": {},
   "outputs": [],
   "source": [
    "from tensorflow.keras import layers\n",
    "from tensorflow import keras\n",
    "\n",
    "# Model Sequential dengan input layer untuk CIFAR-10\n",
    "model = keras.Sequential([\n",
    "    layers.InputLayer(input_shape=(32, 32, 3)),\n",
    "    # Lapisan lainnya...\n",
    "])"
   ]
  },
  {
   "cell_type": "code",
   "execution_count": 19,
   "id": "afffb72b",
   "metadata": {},
   "outputs": [],
   "source": [
    "model.add(layers.Conv2D(64, (3, 3), activation='relu'))\n",
    "# 64: Jumlah filter atau kernel konvolusi yang digunakan. Semakin banyak filter, semakin banyak fitur yang dapat diekstraksi.\n",
    "# Ukuran kernel konvolusi, yaitu 3x3. Ini menunjukkan bahwa setiap kernel memiliki ukuran 3x3 piksel.\n",
    "# activation='relu': Fungsi aktivasi ReLU (Rectified Linear Unit), yang mempertahankan nilai positif dan mengganti nilai negatif dengan nol. \n",
    "\n",
    "model.add(layers.MaxPooling2D((2, 2))) #Max pooling memilih nilai maksimum dalam area tertentu (dalam hal ini, 2x2).\n",
    "model.add(layers.Conv2D(64, (3, 3), activation='relu'))\n",
    "model.add(layers.Flatten()) #Mengubah (flatten) data dari format 2D atau multi-dimensi menjadi satu dimensi. \n",
    "model.add(layers.Dense(64, activation='relu')) # Layer fully connected dengan 64 neuron. Setiap neuron terhubung dengan semua neuron pada layer sebelumnya. \n",
    "model.add(layers.Dense(10, activation='softmax'))  # Lapisan output untuk klasifikasi 10 kelas\n"
   ]
  },
  {
   "cell_type": "code",
   "execution_count": 13,
   "id": "57d91c9d",
   "metadata": {},
   "outputs": [],
   "source": [
    "model.compile(optimizer='adam',\n",
    "              loss='sparse_categorical_crossentropy',  # Ganti dengan 'categorical_crossentropy' jika label one-hot\n",
    "              metrics=['accuracy'])  # Ukuran evaluasi\n"
   ]
  },
  {
   "cell_type": "code",
   "execution_count": 14,
   "id": "c361f6c4",
   "metadata": {},
   "outputs": [
    {
     "name": "stdout",
     "output_type": "stream",
     "text": [
      "Epoch 1/10\n",
      "\u001b[1m1563/1563\u001b[0m \u001b[32m━━━━━━━━━━━━━━━━━━━━\u001b[0m\u001b[37m\u001b[0m \u001b[1m46s\u001b[0m 28ms/step - accuracy: 0.2018 - loss: 4.5442 - val_accuracy: 0.3319 - val_loss: 1.8011\n",
      "Epoch 2/10\n",
      "\u001b[1m1563/1563\u001b[0m \u001b[32m━━━━━━━━━━━━━━━━━━━━\u001b[0m\u001b[37m\u001b[0m \u001b[1m43s\u001b[0m 28ms/step - accuracy: 0.4167 - loss: 1.5948 - val_accuracy: 0.5119 - val_loss: 1.3412\n",
      "Epoch 3/10\n",
      "\u001b[1m1563/1563\u001b[0m \u001b[32m━━━━━━━━━━━━━━━━━━━━\u001b[0m\u001b[37m\u001b[0m \u001b[1m43s\u001b[0m 27ms/step - accuracy: 0.5314 - loss: 1.3068 - val_accuracy: 0.5534 - val_loss: 1.2764\n",
      "Epoch 4/10\n",
      "\u001b[1m1563/1563\u001b[0m \u001b[32m━━━━━━━━━━━━━━━━━━━━\u001b[0m\u001b[37m\u001b[0m \u001b[1m44s\u001b[0m 28ms/step - accuracy: 0.6217 - loss: 1.0749 - val_accuracy: 0.5973 - val_loss: 1.1745\n",
      "Epoch 5/10\n",
      "\u001b[1m1563/1563\u001b[0m \u001b[32m━━━━━━━━━━━━━━━━━━━━\u001b[0m\u001b[37m\u001b[0m \u001b[1m45s\u001b[0m 29ms/step - accuracy: 0.6825 - loss: 0.9064 - val_accuracy: 0.6020 - val_loss: 1.2212\n",
      "Epoch 6/10\n",
      "\u001b[1m1563/1563\u001b[0m \u001b[32m━━━━━━━━━━━━━━━━━━━━\u001b[0m\u001b[37m\u001b[0m \u001b[1m46s\u001b[0m 29ms/step - accuracy: 0.7306 - loss: 0.7720 - val_accuracy: 0.5982 - val_loss: 1.3409\n",
      "Epoch 7/10\n",
      "\u001b[1m1563/1563\u001b[0m \u001b[32m━━━━━━━━━━━━━━━━━━━━\u001b[0m\u001b[37m\u001b[0m \u001b[1m45s\u001b[0m 29ms/step - accuracy: 0.7754 - loss: 0.6355 - val_accuracy: 0.6069 - val_loss: 1.3016\n",
      "Epoch 8/10\n",
      "\u001b[1m1563/1563\u001b[0m \u001b[32m━━━━━━━━━━━━━━━━━━━━\u001b[0m\u001b[37m\u001b[0m \u001b[1m45s\u001b[0m 29ms/step - accuracy: 0.8175 - loss: 0.5314 - val_accuracy: 0.6124 - val_loss: 1.3988\n",
      "Epoch 9/10\n",
      "\u001b[1m1563/1563\u001b[0m \u001b[32m━━━━━━━━━━━━━━━━━━━━\u001b[0m\u001b[37m\u001b[0m \u001b[1m46s\u001b[0m 29ms/step - accuracy: 0.8468 - loss: 0.4456 - val_accuracy: 0.5974 - val_loss: 1.5205\n",
      "Epoch 10/10\n",
      "\u001b[1m1563/1563\u001b[0m \u001b[32m━━━━━━━━━━━━━━━━━━━━\u001b[0m\u001b[37m\u001b[0m \u001b[1m46s\u001b[0m 29ms/step - accuracy: 0.8728 - loss: 0.3716 - val_accuracy: 0.5980 - val_loss: 1.7049\n"
     ]
    },
    {
     "data": {
      "text/plain": [
       "<keras.src.callbacks.history.History at 0x2b880656590>"
      ]
     },
     "execution_count": 14,
     "metadata": {},
     "output_type": "execute_result"
    }
   ],
   "source": [
    "# Misalkan Anda sudah memiliki data CIFAR-10 dengan label yang sesuai\n",
    "model.fit(x_train, y_train, epochs=10, validation_data=(x_test, y_test))"
   ]
  },
  {
   "cell_type": "markdown",
   "id": "3b93669c",
   "metadata": {},
   "source": [
    "accuracy: Akurasi pada data pelatihan.\n",
    "loss: Nilai kehilangan pada data pelatihan.\n",
    "val_accuracy: Akurasi pada data validasi.\n",
    "val_loss: Nilai kehilangan pada data validasi.\n",
    "\n",
    "Interpretasi Hasil: <br>\n",
    "Peningkatan Akurasi pada Data Pelatihan\n",
    "Akurasi pada data pelatihan meningkat dari 0.2018 pada epoch pertama hingga 0.8728 pada epoch ke-10.\n",
    "Ini mengindikasikan bahwa model berhasil belajar dari data pelatihan dan menjadi semakin efektif dalam mengenali pola.\n",
    "\n",
    "Penurunan Loss pada Data Pelatihan\n",
    "Loss pada data pelatihan menurun dari 4.5442 pada epoch pertama menjadi 0.3716 pada epoch ke-10.\n",
    "Penurunan loss menunjukkan bahwa model menjadi lebih baik dalam memprediksi label yang benar pada data pelatihan.\n",
    "\n",
    "Stabilitas Akurasi pada Data Validasi\n",
    "Akurasi pada data validasi cenderung tetap antara 0.3319 dan 0.6124, tidak menunjukkan tren peningkatan yang jelas.\n",
    "Pada epoch ke-10, akurasi validasi adalah 0.5980, hampir sama dengan epoch sebelumnya.\n",
    "\n",
    "Fluktuasi Loss pada Data Validasi\n",
    "Nilai loss pada data validasi berfluktuasi, mulai dari 1.8011 pada epoch pertama hingga mencapai 1.7049 pada epoch ke-10."
   ]
  },
  {
   "cell_type": "markdown",
   "id": "10fcb3b7",
   "metadata": {},
   "source": [
    "# Evaluasi Model"
   ]
  },
  {
   "cell_type": "code",
   "execution_count": 15,
   "id": "29942bfd",
   "metadata": {},
   "outputs": [
    {
     "name": "stdout",
     "output_type": "stream",
     "text": [
      "\u001b[1m313/313\u001b[0m \u001b[32m━━━━━━━━━━━━━━━━━━━━\u001b[0m\u001b[37m\u001b[0m \u001b[1m1s\u001b[0m 4ms/step - accuracy: 0.5962 - loss: 1.6907\n",
      "Loss: 1.7048835754394531\n",
      "Accuracy: 0.5979999899864197\n"
     ]
    }
   ],
   "source": [
    "test_loss, test_accuracy = model.evaluate(x_test, y_test)\n",
    "print(\"Loss:\", test_loss)\n",
    "print(\"Accuracy:\", test_accuracy)"
   ]
  },
  {
   "cell_type": "markdown",
   "id": "f221f31c",
   "metadata": {},
   "source": [
    "Akurasi pada data uji sekitar 59.8%. Ini berarti bahwa sekitar 60% prediksi model pada data uji adalah benar. Meskipun model telah belajar, akurasi ini menunjukkan ada ruang untuk peningkatan."
   ]
  },
  {
   "cell_type": "markdown",
   "id": "4d618682",
   "metadata": {},
   "source": [
    "Loss pada data uji adalah 1.6907. Loss mengukur seberapa jauh prediksi model dari target sebenarnya. Nilai ini relatif tinggi, menunjukkan bahwa prediksi model masih jauh dari sempurna."
   ]
  },
  {
   "cell_type": "markdown",
   "id": "c6014336",
   "metadata": {},
   "source": [
    "Akurasi pada data uji (59.8%) mirip dengan akurasi validasi yang terakhir (59.8%). Ini mengindikasikan bahwa model tidak mengalami perubahan drastis dalam performa antara data validasi dan data uji.\n",
    "\n",
    "Nilai loss pada data uji (1.6907) juga konsisten dengan trend loss validasi pada akhir pelatihan (1.7049)."
   ]
  },
  {
   "cell_type": "code",
   "execution_count": null,
   "id": "1cbdbf02",
   "metadata": {},
   "outputs": [],
   "source": []
  }
 ],
 "metadata": {
  "kernelspec": {
   "display_name": "Python 3 (ipykernel)",
   "language": "python",
   "name": "python3"
  },
  "language_info": {
   "codemirror_mode": {
    "name": "ipython",
    "version": 3
   },
   "file_extension": ".py",
   "mimetype": "text/x-python",
   "name": "python",
   "nbconvert_exporter": "python",
   "pygments_lexer": "ipython3",
   "version": "3.11.5"
  }
 },
 "nbformat": 4,
 "nbformat_minor": 5
}
