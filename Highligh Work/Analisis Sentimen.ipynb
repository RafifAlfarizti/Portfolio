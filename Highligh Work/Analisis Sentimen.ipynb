{
 "cells": [
  {
   "cell_type": "code",
   "execution_count": 2,
   "id": "8ae1b849",
   "metadata": {},
   "outputs": [],
   "source": [
    "#install package\n",
    "import pandas as pd"
   ]
  },
  {
   "cell_type": "code",
   "execution_count": 3,
   "id": "d4f985f8",
   "metadata": {},
   "outputs": [],
   "source": [
    "#impor data dari excel\n",
    "dataset=pd.read_excel(\"E:/Bahan Statistika/Review_Sentimen.xlsx\")"
   ]
  },
  {
   "cell_type": "code",
   "execution_count": 4,
   "id": "12bafdea",
   "metadata": {},
   "outputs": [
    {
     "data": {
      "text/html": [
       "<div>\n",
       "<style scoped>\n",
       "    .dataframe tbody tr th:only-of-type {\n",
       "        vertical-align: middle;\n",
       "    }\n",
       "\n",
       "    .dataframe tbody tr th {\n",
       "        vertical-align: top;\n",
       "    }\n",
       "\n",
       "    .dataframe thead th {\n",
       "        text-align: right;\n",
       "    }\n",
       "</style>\n",
       "<table border=\"1\" class=\"dataframe\">\n",
       "  <thead>\n",
       "    <tr style=\"text-align: right;\">\n",
       "      <th></th>\n",
       "      <th>Translated_Review</th>\n",
       "      <th>Sentiment</th>\n",
       "      <th>Sentiment_Polarity</th>\n",
       "      <th>Sentiment_Subjectivity</th>\n",
       "      <th>Trans_Sent_Sub</th>\n",
       "    </tr>\n",
       "  </thead>\n",
       "  <tbody>\n",
       "    <tr>\n",
       "      <th>0</th>\n",
       "      <td>I like eat delicious food. That's I'm cooking ...</td>\n",
       "      <td>Positive</td>\n",
       "      <td>1.000000</td>\n",
       "      <td>0.533333</td>\n",
       "      <td>-0.628609</td>\n",
       "    </tr>\n",
       "    <tr>\n",
       "      <th>1</th>\n",
       "      <td>This help eating healthy exercise regular basis</td>\n",
       "      <td>Positive</td>\n",
       "      <td>0.250000</td>\n",
       "      <td>0.288462</td>\n",
       "      <td>-1.243194</td>\n",
       "    </tr>\n",
       "    <tr>\n",
       "      <th>2</th>\n",
       "      <td>Works great especially going grocery store</td>\n",
       "      <td>Positive</td>\n",
       "      <td>0.400000</td>\n",
       "      <td>0.875000</td>\n",
       "      <td>-0.133531</td>\n",
       "    </tr>\n",
       "    <tr>\n",
       "      <th>3</th>\n",
       "      <td>Best idea us</td>\n",
       "      <td>Positive</td>\n",
       "      <td>1.000000</td>\n",
       "      <td>0.300000</td>\n",
       "      <td>-1.203973</td>\n",
       "    </tr>\n",
       "    <tr>\n",
       "      <th>4</th>\n",
       "      <td>Best way</td>\n",
       "      <td>Positive</td>\n",
       "      <td>1.000000</td>\n",
       "      <td>0.300000</td>\n",
       "      <td>-1.203973</td>\n",
       "    </tr>\n",
       "    <tr>\n",
       "      <th>...</th>\n",
       "      <td>...</td>\n",
       "      <td>...</td>\n",
       "      <td>...</td>\n",
       "      <td>...</td>\n",
       "      <td>...</td>\n",
       "    </tr>\n",
       "    <tr>\n",
       "      <th>189</th>\n",
       "      <td>Boring. I thought actually just texts that's i...</td>\n",
       "      <td>Negative</td>\n",
       "      <td>-0.325000</td>\n",
       "      <td>0.475000</td>\n",
       "      <td>-0.744440</td>\n",
       "    </tr>\n",
       "    <tr>\n",
       "      <th>190</th>\n",
       "      <td>Love app. It gives way good idea I buying stor...</td>\n",
       "      <td>Positive</td>\n",
       "      <td>0.400000</td>\n",
       "      <td>0.400000</td>\n",
       "      <td>-0.916291</td>\n",
       "    </tr>\n",
       "    <tr>\n",
       "      <th>191</th>\n",
       "      <td>Great Its really best unique provides detailed...</td>\n",
       "      <td>Positive</td>\n",
       "      <td>0.579167</td>\n",
       "      <td>0.683333</td>\n",
       "      <td>-0.380772</td>\n",
       "    </tr>\n",
       "    <tr>\n",
       "      <th>192</th>\n",
       "      <td>Nothing special! Could find anything useful!</td>\n",
       "      <td>Positive</td>\n",
       "      <td>0.410714</td>\n",
       "      <td>0.285714</td>\n",
       "      <td>-1.252763</td>\n",
       "    </tr>\n",
       "    <tr>\n",
       "      <th>193</th>\n",
       "      <td>Its ok I love ok.</td>\n",
       "      <td>Positive</td>\n",
       "      <td>0.500000</td>\n",
       "      <td>0.533333</td>\n",
       "      <td>-0.628609</td>\n",
       "    </tr>\n",
       "  </tbody>\n",
       "</table>\n",
       "<p>194 rows × 5 columns</p>\n",
       "</div>"
      ],
      "text/plain": [
       "                                     Translated_Review Sentiment  \\\n",
       "0    I like eat delicious food. That's I'm cooking ...  Positive   \n",
       "1      This help eating healthy exercise regular basis  Positive   \n",
       "2           Works great especially going grocery store  Positive   \n",
       "3                                         Best idea us  Positive   \n",
       "4                                             Best way  Positive   \n",
       "..                                                 ...       ...   \n",
       "189  Boring. I thought actually just texts that's i...  Negative   \n",
       "190  Love app. It gives way good idea I buying stor...  Positive   \n",
       "191  Great Its really best unique provides detailed...  Positive   \n",
       "192       Nothing special! Could find anything useful!  Positive   \n",
       "193                                  Its ok I love ok.  Positive   \n",
       "\n",
       "     Sentiment_Polarity  Sentiment_Subjectivity  Trans_Sent_Sub  \n",
       "0              1.000000                0.533333       -0.628609  \n",
       "1              0.250000                0.288462       -1.243194  \n",
       "2              0.400000                0.875000       -0.133531  \n",
       "3              1.000000                0.300000       -1.203973  \n",
       "4              1.000000                0.300000       -1.203973  \n",
       "..                  ...                     ...             ...  \n",
       "189           -0.325000                0.475000       -0.744440  \n",
       "190            0.400000                0.400000       -0.916291  \n",
       "191            0.579167                0.683333       -0.380772  \n",
       "192            0.410714                0.285714       -1.252763  \n",
       "193            0.500000                0.533333       -0.628609  \n",
       "\n",
       "[194 rows x 5 columns]"
      ]
     },
     "execution_count": 4,
     "metadata": {},
     "output_type": "execute_result"
    }
   ],
   "source": [
    "dataset"
   ]
  },
  {
   "cell_type": "code",
   "execution_count": 9,
   "id": "05d4874f",
   "metadata": {
    "scrolled": true
   },
   "outputs": [
    {
     "name": "stdout",
     "output_type": "stream",
     "text": [
      "Collecting textblob\n",
      "  Downloading textblob-0.17.1-py2.py3-none-any.whl (636 kB)\n",
      "     ---------------------------------------- 0.0/636.8 kB ? eta -:--:--\n",
      "     - -------------------------------------- 30.7/636.8 kB ? eta -:--:--\n",
      "     ----- --------------------------------- 92.2/636.8 kB 1.1 MB/s eta 0:00:01\n",
      "     ------- ------------------------------ 122.9/636.8 kB 1.0 MB/s eta 0:00:01\n",
      "     ---------- --------------------------- 174.1/636.8 kB 1.1 MB/s eta 0:00:01\n",
      "     ----------- -------------------------- 194.6/636.8 kB 1.1 MB/s eta 0:00:01\n",
      "     ------------------ ------------------- 307.2/636.8 kB 1.1 MB/s eta 0:00:01\n",
      "     ------------------------ ------------- 409.6/636.8 kB 1.3 MB/s eta 0:00:01\n",
      "     ---------------------------- --------- 481.3/636.8 kB 1.3 MB/s eta 0:00:01\n",
      "     ---------------------------------- --- 573.4/636.8 kB 1.4 MB/s eta 0:00:01\n",
      "     -------------------------------------- 636.8/636.8 kB 1.5 MB/s eta 0:00:00\n",
      "Requirement already satisfied: nltk>=3.1 in d:\\program statistika rafif\\anaconda\\new folder\\lib\\site-packages (from textblob) (3.8.1)\n",
      "Requirement already satisfied: click in d:\\program statistika rafif\\anaconda\\new folder\\lib\\site-packages (from nltk>=3.1->textblob) (8.0.4)\n",
      "Requirement already satisfied: joblib in d:\\program statistika rafif\\anaconda\\new folder\\lib\\site-packages (from nltk>=3.1->textblob) (1.2.0)\n",
      "Requirement already satisfied: regex>=2021.8.3 in d:\\program statistika rafif\\anaconda\\new folder\\lib\\site-packages (from nltk>=3.1->textblob) (2022.7.9)\n",
      "Requirement already satisfied: tqdm in d:\\program statistika rafif\\anaconda\\new folder\\lib\\site-packages (from nltk>=3.1->textblob) (4.65.0)\n",
      "Requirement already satisfied: colorama in d:\\program statistika rafif\\anaconda\\new folder\\lib\\site-packages (from click->nltk>=3.1->textblob) (0.4.6)\n",
      "Installing collected packages: textblob\n",
      "Successfully installed textblob-0.17.1\n",
      "Note: you may need to restart the kernel to use updated packages.\n"
     ]
    }
   ],
   "source": [
    "pip install textblob"
   ]
  },
  {
   "cell_type": "code",
   "execution_count": 10,
   "id": "3356a195",
   "metadata": {},
   "outputs": [],
   "source": [
    "from textblob import TextBlob\n",
    "\n",
    "# Contoh teks yang akan dianalisis\n",
    "teks = \"Saya sangat senang hari ini. Ini adalah hari yang indah.\"\n",
    "\n",
    "# Membuat objek TextBlob\n",
    "blob = TextBlob(teks)\n",
    "\n",
    "# Melakukan analisis sentimen\n",
    "sentimen = blob.sentiment"
   ]
  },
  {
   "cell_type": "code",
   "execution_count": 11,
   "id": "df1273ef",
   "metadata": {},
   "outputs": [
    {
     "name": "stdout",
     "output_type": "stream",
     "text": [
      "Sentimen: Polarity = 0.0, Subjectivity = 0.0\n"
     ]
    }
   ],
   "source": [
    "# Menampilkan hasil analisis sentimen\n",
    "print(f\"Sentimen: Polarity = {sentimen.polarity}, Subjectivity = {sentimen.subjectivity}\")"
   ]
  },
  {
   "cell_type": "code",
   "execution_count": 12,
   "id": "e85cbd4f",
   "metadata": {},
   "outputs": [
    {
     "name": "stdout",
     "output_type": "stream",
     "text": [
      "Teks netral.\n"
     ]
    }
   ],
   "source": [
    "# Menampilkan label sentimen berdasarkan polaritas\n",
    "if sentimen.polarity > 0:\n",
    "    print(\"Teks memiliki sentimen positif.\")\n",
    "elif sentimen.polarity < 0:\n",
    "    print(\"Teks memiliki sentimen negatif.\")\n",
    "else:\n",
    "    print(\"Teks netral.\")"
   ]
  },
  {
   "cell_type": "code",
   "execution_count": 13,
   "id": "03cef632",
   "metadata": {},
   "outputs": [],
   "source": [
    "# Fungsi untuk menganalisis sentimen\n",
    "def analisis_sentimen(teks):\n",
    "    blob = TextBlob(teks)\n",
    "    sentimen = blob.sentiment.polarity\n",
    "    if sentimen > 0:\n",
    "        return 'Positif'\n",
    "    elif sentimen < 0:\n",
    "        return 'Negatif'\n",
    "    else:\n",
    "        return 'Netral'"
   ]
  },
  {
   "cell_type": "code",
   "execution_count": 14,
   "id": "75d2a081",
   "metadata": {},
   "outputs": [
    {
     "data": {
      "text/plain": [
       "0      Positif\n",
       "1      Positif\n",
       "2      Positif\n",
       "3      Positif\n",
       "4      Positif\n",
       "        ...   \n",
       "189    Negatif\n",
       "190    Positif\n",
       "191    Positif\n",
       "192    Positif\n",
       "193    Positif\n",
       "Name: Sentiment, Length: 194, dtype: object"
      ]
     },
     "execution_count": 14,
     "metadata": {},
     "output_type": "execute_result"
    }
   ],
   "source": [
    "# Terapkan analisis sentimen pada kolom komentar review\n",
    "dataset['Sentiment'] = dataset['Translated_Review'].apply(analisis_sentimen)\n",
    "dataset['Sentiment']"
   ]
  },
  {
   "cell_type": "code",
   "execution_count": 16,
   "id": "7b4b3536",
   "metadata": {},
   "outputs": [
    {
     "data": {
      "text/plain": [
       "Positif    162\n",
       "Netral      22\n",
       "Negatif     10\n",
       "Name: Sentiment, dtype: int64"
      ]
     },
     "execution_count": 16,
     "metadata": {},
     "output_type": "execute_result"
    }
   ],
   "source": [
    "# Agregasi hasil (opsional)\n",
    "hasil_agregat = dataset['Sentiment'].value_counts()\n",
    "hasil_agregat"
   ]
  },
  {
   "cell_type": "code",
   "execution_count": 17,
   "id": "23f907c3",
   "metadata": {},
   "outputs": [
    {
     "data": {
      "image/png": "[encoded data removed]",
      "text/plain": [
       "<Figure size 640x480 with 1 Axes>"
      ]
     },
     "metadata": {},
     "output_type": "display_data"
    }
   ],
   "source": [
    "# Visualisasi hasil (opsional)\n",
    "import matplotlib.pyplot as plt\n",
    "\n",
    "plt.bar(hasil_agregat.index, hasil_agregat.values)\n",
    "plt.xlabel('Sentiment')\n",
    "plt.ylabel('Jumlah Komentar')\n",
    "plt.title('Distribusi Sentimen Komentar Review')\n",
    "plt.show()"
   ]
  },
  {
   "cell_type": "code",
   "execution_count": null,
   "id": "e25983de",
   "metadata": {},
   "outputs": [],
   "source": []
  }
 ],
 "metadata": {
  "kernelspec": {
   "display_name": "Python 3 (ipykernel)",
   "language": "python",
   "name": "python3"
  },
  "language_info": {
   "codemirror_mode": {
    "name": "ipython",
    "version": 3
   },
   "file_extension": ".py",
   "mimetype": "text/x-python",
   "name": "python",
   "nbconvert_exporter": "python",
   "pygments_lexer": "ipython3",
   "version": "3.11.4"
  }
 },
 "nbformat": 4,
 "nbformat_minor": 5
}
