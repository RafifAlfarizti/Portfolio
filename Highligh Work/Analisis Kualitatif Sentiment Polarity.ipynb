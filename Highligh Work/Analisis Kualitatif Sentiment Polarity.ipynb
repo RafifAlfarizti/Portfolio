{
 "cells": [
  {
   "cell_type": "code",
   "execution_count": 1,
   "id": "c0ce4b73",
   "metadata": {},
   "outputs": [],
   "source": [
    "# Impor library yang diperlukan\n",
    "import pandas as pd\n",
    "from textblob import TextBlob\n",
    "import matplotlib.pyplot as plt"
   ]
  },
  {
   "cell_type": "code",
   "execution_count": 3,
   "id": "fe85d255",
   "metadata": {},
   "outputs": [
    {
     "data": {
      "text/html": [
       "<div>\n",
       "<style scoped>\n",
       "    .dataframe tbody tr th:only-of-type {\n",
       "        vertical-align: middle;\n",
       "    }\n",
       "\n",
       "    .dataframe tbody tr th {\n",
       "        vertical-align: top;\n",
       "    }\n",
       "\n",
       "    .dataframe thead th {\n",
       "        text-align: right;\n",
       "    }\n",
       "</style>\n",
       "<table border=\"1\" class=\"dataframe\">\n",
       "  <thead>\n",
       "    <tr style=\"text-align: right;\">\n",
       "      <th></th>\n",
       "      <th>Translated_Review</th>\n",
       "      <th>Sentiment</th>\n",
       "    </tr>\n",
       "  </thead>\n",
       "  <tbody>\n",
       "    <tr>\n",
       "      <th>0</th>\n",
       "      <td>I like eat delicious food. That's I'm cooking ...</td>\n",
       "      <td>Positive</td>\n",
       "    </tr>\n",
       "    <tr>\n",
       "      <th>1</th>\n",
       "      <td>This help eating healthy exercise regular basis</td>\n",
       "      <td>Positive</td>\n",
       "    </tr>\n",
       "    <tr>\n",
       "      <th>2</th>\n",
       "      <td>Works great especially going grocery store</td>\n",
       "      <td>Positive</td>\n",
       "    </tr>\n",
       "    <tr>\n",
       "      <th>3</th>\n",
       "      <td>Best idea us</td>\n",
       "      <td>Positive</td>\n",
       "    </tr>\n",
       "    <tr>\n",
       "      <th>4</th>\n",
       "      <td>Best way</td>\n",
       "      <td>Positive</td>\n",
       "    </tr>\n",
       "    <tr>\n",
       "      <th>...</th>\n",
       "      <td>...</td>\n",
       "      <td>...</td>\n",
       "    </tr>\n",
       "    <tr>\n",
       "      <th>189</th>\n",
       "      <td>Boring. I thought actually just texts that's i...</td>\n",
       "      <td>Negative</td>\n",
       "    </tr>\n",
       "    <tr>\n",
       "      <th>190</th>\n",
       "      <td>Love app. It gives way good idea I buying stor...</td>\n",
       "      <td>Positive</td>\n",
       "    </tr>\n",
       "    <tr>\n",
       "      <th>191</th>\n",
       "      <td>Great Its really best unique provides detailed...</td>\n",
       "      <td>Positive</td>\n",
       "    </tr>\n",
       "    <tr>\n",
       "      <th>192</th>\n",
       "      <td>Nothing special! Could find anything useful!</td>\n",
       "      <td>Positive</td>\n",
       "    </tr>\n",
       "    <tr>\n",
       "      <th>193</th>\n",
       "      <td>Its ok I love ok.</td>\n",
       "      <td>Positive</td>\n",
       "    </tr>\n",
       "  </tbody>\n",
       "</table>\n",
       "<p>194 rows × 2 columns</p>\n",
       "</div>"
      ],
      "text/plain": [
       "                                     Translated_Review Sentiment\n",
       "0    I like eat delicious food. That's I'm cooking ...  Positive\n",
       "1      This help eating healthy exercise regular basis  Positive\n",
       "2           Works great especially going grocery store  Positive\n",
       "3                                         Best idea us  Positive\n",
       "4                                             Best way  Positive\n",
       "..                                                 ...       ...\n",
       "189  Boring. I thought actually just texts that's i...  Negative\n",
       "190  Love app. It gives way good idea I buying stor...  Positive\n",
       "191  Great Its really best unique provides detailed...  Positive\n",
       "192       Nothing special! Could find anything useful!  Positive\n",
       "193                                  Its ok I love ok.  Positive\n",
       "\n",
       "[194 rows x 2 columns]"
      ]
     },
     "execution_count": 3,
     "metadata": {},
     "output_type": "execute_result"
    }
   ],
   "source": [
    "data = pd.read_excel(\"E:\\Bahan Statistika\\Review_Sentimen.xlsx\")\n",
    "data"
   ]
  },
  {
   "cell_type": "code",
   "execution_count": 13,
   "id": "6e20f969",
   "metadata": {},
   "outputs": [],
   "source": [
    "# Menghitung jumlah ulasan positif dan negatif\n",
    "jumlah_positif = data[data['Sentiment'] == 'Positive'].shape[0]\n",
    "jumlah_negatif = data[data['Sentiment'] == 'Negative'].shape[0]\n",
    "jumlah_netral"
   ]
  },
  {
   "cell_type": "code",
   "execution_count": 7,
   "id": "ace06ee8",
   "metadata": {},
   "outputs": [
    {
     "data": {
      "text/plain": [
       "0      1.000000\n",
       "1      0.250000\n",
       "2      0.400000\n",
       "3      1.000000\n",
       "4      1.000000\n",
       "         ...   \n",
       "189   -0.325000\n",
       "190    0.400000\n",
       "191    0.579167\n",
       "192    0.410714\n",
       "193    0.500000\n",
       "Name: Polaritas, Length: 194, dtype: float64"
      ]
     },
     "execution_count": 7,
     "metadata": {},
     "output_type": "execute_result"
    }
   ],
   "source": [
    "# Analisis teks ulasan menggunakan TextBlob\n",
    "data['Polaritas'] = data['Translated_Review'].apply(lambda x: TextBlob(x).sentiment.polarity)\n",
    "data['Polaritas']"
   ]
  },
  {
   "cell_type": "code",
   "execution_count": 8,
   "id": "1c9b2a14",
   "metadata": {},
   "outputs": [
    {
     "name": "stdout",
     "output_type": "stream",
     "text": [
      "Ulasan dengan Polaritas Positif Tertinggi:\n",
      "I like eat delicious food. That's I'm cooking food myself, case \"10 Best Foods\" helps lot, also \"Best Before (Shelf Life)\"\n"
     ]
    }
   ],
   "source": [
    "# Menampilkan ulasan dengan polaritas positif tertinggi\n",
    "ulasan_terbaik = data[data['Polaritas'] == data['Polaritas'].max()]['Translated_Review'].values[0]\n",
    "print(\"Ulasan dengan Polaritas Positif Tertinggi:\")\n",
    "print(ulasan_terbaik)"
   ]
  },
  {
   "cell_type": "code",
   "execution_count": 9,
   "id": "88f295bc",
   "metadata": {},
   "outputs": [
    {
     "name": "stdout",
     "output_type": "stream",
     "text": [
      "Ulasan dengan Polaritas Negatif Tertinggi:\n",
      "Crap Doesn't work\n"
     ]
    }
   ],
   "source": [
    "# Menampilkan ulasan dengan polaritas negatif tertinggi\n",
    "ulasan_terburuk = data[data['Polaritas'] == data['Polaritas'].min()]['Translated_Review'].values[0]\n",
    "print(\"Ulasan dengan Polaritas Negatif Tertinggi:\")\n",
    "print(ulasan_terburuk)"
   ]
  },
  {
   "cell_type": "code",
   "execution_count": 14,
   "id": "e7b16071",
   "metadata": {},
   "outputs": [
    {
     "data": {
      "image/png": "[encoded data removed]",
      "text/plain": [
       "<Figure size 600x400 with 1 Axes>"
      ]
     },
     "metadata": {},
     "output_type": "display_data"
    }
   ],
   "source": [
    "# Menampilkan diagram batang sentimen\n",
    "plt.figure(figsize=(6, 4))\n",
    "plt.bar(['Positive', 'Negative'], [jumlah_positif, jumlah_negatif], color=['green', 'red'])\n",
    "plt.title('Distribusi Sentimen Ulasan')\n",
    "plt.ylabel('Jumlah Ulasan')\n",
    "plt.show()"
   ]
  },
  {
   "cell_type": "code",
   "execution_count": 15,
   "id": "6a249a91",
   "metadata": {},
   "outputs": [
    {
     "name": "stdout",
     "output_type": "stream",
     "text": [
      "Nilai Polaritas Sentimen untuk Ulasan dengan Polaritas Negatif Tertinggi: -0.8\n"
     ]
    }
   ],
   "source": [
    "# Menampilkan nilai polaritas sentimen untuk ulasan dengan polaritas negatif tertinggi\n",
    "nilai_polaritas_terburuk = data['Polaritas'].min()\n",
    "print(\"Nilai Polaritas Sentimen untuk Ulasan dengan Polaritas Negatif Tertinggi:\", nilai_polaritas_terburuk)"
   ]
  },
  {
   "cell_type": "code",
   "execution_count": 16,
   "id": "16a80d90",
   "metadata": {},
   "outputs": [
    {
     "name": "stdout",
     "output_type": "stream",
     "text": [
      "Nilai Polaritas Sentimen untuk Ulasan dengan Polaritas Negatif Tertinggi: 1.0\n"
     ]
    }
   ],
   "source": [
    "# Menampilkan nilai polaritas sentimen untuk ulasan dengan polaritas negatif tertinggi\n",
    "nilai_polaritas_terbaik = data['Polaritas'].max()\n",
    "print(\"Nilai Polaritas Sentimen untuk Ulasan dengan Polaritas Negatif Tertinggi:\", nilai_polaritas_terbaik)"
   ]
  },
  {
   "cell_type": "code",
   "execution_count": null,
   "id": "757b29e1",
   "metadata": {},
   "outputs": [],
   "source": []
  }
 ],
 "metadata": {
  "kernelspec": {
   "display_name": "Python 3 (ipykernel)",
   "language": "python",
   "name": "python3"
  },
  "language_info": {
   "codemirror_mode": {
    "name": "ipython",
    "version": 3
   },
   "file_extension": ".py",
   "mimetype": "text/x-python",
   "name": "python",
   "nbconvert_exporter": "python",
   "pygments_lexer": "ipython3",
   "version": "3.11.4"
  }
 },
 "nbformat": 4,
 "nbformat_minor": 5
}
