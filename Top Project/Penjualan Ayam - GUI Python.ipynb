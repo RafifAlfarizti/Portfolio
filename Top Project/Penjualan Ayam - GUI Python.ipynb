{
 "cells": [
  {
   "cell_type": "code",
   "execution_count": 1,
   "id": "1e8f502c",
   "metadata": {},
   "outputs": [],
   "source": [
    "import pandas as pd\n",
    "import numpy as np\n",
    "from tkinter import *\n",
    "from matplotlib.figure import Figure\n",
    "from matplotlib.backends.backend_tkagg import FigureCanvasTkAgg"
   ]
  },
  {
   "cell_type": "code",
   "execution_count": 2,
   "id": "3cca79b8",
   "metadata": {},
   "outputs": [
    {
     "data": {
      "text/html": [
       "<div>\n",
       "<style scoped>\n",
       "    .dataframe tbody tr th:only-of-type {\n",
       "        vertical-align: middle;\n",
       "    }\n",
       "\n",
       "    .dataframe tbody tr th {\n",
       "        vertical-align: top;\n",
       "    }\n",
       "\n",
       "    .dataframe thead th {\n",
       "        text-align: right;\n",
       "    }\n",
       "</style>\n",
       "<table border=\"1\" class=\"dataframe\">\n",
       "  <thead>\n",
       "    <tr style=\"text-align: right;\">\n",
       "      <th></th>\n",
       "      <th>Tanggal</th>\n",
       "      <th>Penjualan</th>\n",
       "      <th>Harga</th>\n",
       "    </tr>\n",
       "  </thead>\n",
       "  <tbody>\n",
       "    <tr>\n",
       "      <th>0</th>\n",
       "      <td>2024-01-01</td>\n",
       "      <td>272</td>\n",
       "      <td>36.253184</td>\n",
       "    </tr>\n",
       "    <tr>\n",
       "      <th>1</th>\n",
       "      <td>2024-01-02</td>\n",
       "      <td>147</td>\n",
       "      <td>15.527318</td>\n",
       "    </tr>\n",
       "    <tr>\n",
       "      <th>2</th>\n",
       "      <td>2024-01-03</td>\n",
       "      <td>217</td>\n",
       "      <td>17.863294</td>\n",
       "    </tr>\n",
       "    <tr>\n",
       "      <th>3</th>\n",
       "      <td>2024-01-04</td>\n",
       "      <td>292</td>\n",
       "      <td>24.749007</td>\n",
       "    </tr>\n",
       "    <tr>\n",
       "      <th>4</th>\n",
       "      <td>2024-01-05</td>\n",
       "      <td>423</td>\n",
       "      <td>42.839729</td>\n",
       "    </tr>\n",
       "    <tr>\n",
       "      <th>...</th>\n",
       "      <td>...</td>\n",
       "      <td>...</td>\n",
       "      <td>...</td>\n",
       "    </tr>\n",
       "    <tr>\n",
       "      <th>95</th>\n",
       "      <td>2024-04-05</td>\n",
       "      <td>327</td>\n",
       "      <td>32.764030</td>\n",
       "    </tr>\n",
       "    <tr>\n",
       "      <th>96</th>\n",
       "      <td>2024-04-06</td>\n",
       "      <td>379</td>\n",
       "      <td>26.287332</td>\n",
       "    </tr>\n",
       "    <tr>\n",
       "      <th>97</th>\n",
       "      <td>2024-04-07</td>\n",
       "      <td>307</td>\n",
       "      <td>12.766680</td>\n",
       "    </tr>\n",
       "    <tr>\n",
       "      <th>98</th>\n",
       "      <td>2024-04-08</td>\n",
       "      <td>497</td>\n",
       "      <td>37.897151</td>\n",
       "    </tr>\n",
       "    <tr>\n",
       "      <th>99</th>\n",
       "      <td>2024-04-09</td>\n",
       "      <td>473</td>\n",
       "      <td>28.141707</td>\n",
       "    </tr>\n",
       "  </tbody>\n",
       "</table>\n",
       "<p>100 rows × 3 columns</p>\n",
       "</div>"
      ],
      "text/plain": [
       "      Tanggal  Penjualan      Harga\n",
       "0  2024-01-01        272  36.253184\n",
       "1  2024-01-02        147  15.527318\n",
       "2  2024-01-03        217  17.863294\n",
       "3  2024-01-04        292  24.749007\n",
       "4  2024-01-05        423  42.839729\n",
       "..        ...        ...        ...\n",
       "95 2024-04-05        327  32.764030\n",
       "96 2024-04-06        379  26.287332\n",
       "97 2024-04-07        307  12.766680\n",
       "98 2024-04-08        497  37.897151\n",
       "99 2024-04-09        473  28.141707\n",
       "\n",
       "[100 rows x 3 columns]"
      ]
     },
     "execution_count": 2,
     "metadata": {},
     "output_type": "execute_result"
    }
   ],
   "source": [
    "# Menghasilkan data acak\n",
    "np.random.seed(0)\n",
    "tanggal = pd.date_range(start=\"2024-01-01\", periods=100, freq='D')\n",
    "penjualan = np.random.randint(100, 500, size=(100,))\n",
    "harga = np.random.uniform(10, 50, size=(100,))\n",
    "data = pd.DataFrame({'Tanggal': tanggal, 'Penjualan': penjualan, 'Harga': harga})\n",
    "data"
   ]
  },
  {
   "cell_type": "code",
   "execution_count": 3,
   "id": "a963efd5",
   "metadata": {},
   "outputs": [],
   "source": [
    "# Analisis data\n",
    "rata_penjualan = data['Penjualan'].mean()\n",
    "rata_harga = data['Harga'].mean()\n",
    "total_pendapatan = (data['Penjualan'] * data['Harga']).sum()"
   ]
  },
  {
   "cell_type": "code",
   "execution_count": 4,
   "id": "098fd4f3",
   "metadata": {},
   "outputs": [
    {
     "data": {
      "text/plain": [
       "''"
      ]
     },
     "execution_count": 4,
     "metadata": {},
     "output_type": "execute_result"
    }
   ],
   "source": [
    "# Membuat GUI\n",
    "root = Tk()\n",
    "root.title(\"Analisis Penjualan Ayam Kentucky\")"
   ]
  },
  {
   "cell_type": "code",
   "execution_count": 5,
   "id": "a53d4232",
   "metadata": {},
   "outputs": [],
   "source": [
    "# Membuat frame untuk tabel data\n",
    "frame = Frame(root)\n",
    "frame.pack(side=TOP, fill=BOTH, expand=True)"
   ]
  },
  {
   "cell_type": "code",
   "execution_count": 6,
   "id": "e9d82aaf",
   "metadata": {},
   "outputs": [],
   "source": [
    "# Menampilkan data dalam bentuk tabel\n",
    "table = Text(frame, height=10, width=80)\n",
    "table.pack(side=LEFT, fill=BOTH, expand=True)\n",
    "table.insert(END, data.to_string(index=False))"
   ]
  },
  {
   "cell_type": "code",
   "execution_count": 7,
   "id": "96e8b4c1",
   "metadata": {},
   "outputs": [],
   "source": [
    "# Membuat frame untuk analisis\n",
    "analysis_frame = Frame(root)\n",
    "analysis_frame.pack(side=TOP, fill=BOTH, expand=True)"
   ]
  },
  {
   "cell_type": "code",
   "execution_count": 8,
   "id": "3b5eb8af",
   "metadata": {},
   "outputs": [],
   "source": [
    "# Menampilkan hasil analisis\n",
    "analysis_label = Label(analysis_frame, text=f\"Rata-rata Penjualan: {rata_penjualan:.2f}\\nRata-rata Harga: {rata_harga:.2f}\\nTotal Pendapatan: {total_pendapatan:.2f}\", justify=LEFT)\n",
    "analysis_label.pack(side=LEFT, padx=10)"
   ]
  },
  {
   "cell_type": "code",
   "execution_count": 9,
   "id": "0e504409",
   "metadata": {},
   "outputs": [
    {
     "data": {
      "text/plain": [
       "Text(0, 0.5, 'Penjualan')"
      ]
     },
     "execution_count": 9,
     "metadata": {},
     "output_type": "execute_result"
    }
   ],
   "source": [
    "# Membuat grafik penjualan\n",
    "fig = Figure(figsize=(5, 4), dpi=100)\n",
    "plot = fig.add_subplot(111)\n",
    "plot.plot(data['Tanggal'], data['Penjualan'], marker='o', color='b')\n",
    "plot.set_title('Grafik Penjualan Ayam Kentucky')\n",
    "plot.set_xlabel('Tanggal')\n",
    "plot.set_ylabel('Penjualan')"
   ]
  },
  {
   "cell_type": "code",
   "execution_count": 11,
   "id": "80397bae",
   "metadata": {},
   "outputs": [],
   "source": [
    "def simpan_data_ke_csv():\n",
    "    data.to_csv('penjualan_ayam_kentucky.csv', index=False)\n",
    "    print(\"Data telah disimpan ke file 'penjualan_ayam_kentucky.csv'\")\n",
    "\n",
    "# Tambahkan tombol di GUI untuk menyimpan data\n",
    "tombol_simpan = Button(root, text=\"Simpan Data ke CSV\", command=simpan_data_ke_csv)\n",
    "tombol_simpan.pack(side=TOP, pady=5)"
   ]
  },
  {
   "cell_type": "code",
   "execution_count": 12,
   "id": "af508057",
   "metadata": {},
   "outputs": [
    {
     "name": "stdout",
     "output_type": "stream",
     "text": [
      "Data telah disimpan ke file 'penjualan_ayam_kentucky.csv'\n"
     ]
    }
   ],
   "source": [
    "# Menambahkan grafik ke GUI\n",
    "canvas = FigureCanvasTkAgg(fig, master=root)\n",
    "canvas.draw()\n",
    "canvas.get_tk_widget().pack(side=TOP, fill=BOTH, expand=True)\n",
    "\n",
    "root.mainloop()"
   ]
  },
  {
   "cell_type": "code",
   "execution_count": null,
   "id": "84b0f57b",
   "metadata": {},
   "outputs": [],
   "source": []
  }
 ],
 "metadata": {
  "kernelspec": {
   "display_name": "Python 3 (ipykernel)",
   "language": "python",
   "name": "python3"
  },
  "language_info": {
   "codemirror_mode": {
    "name": "ipython",
    "version": 3
   },
   "file_extension": ".py",
   "mimetype": "text/x-python",
   "name": "python",
   "nbconvert_exporter": "python",
   "pygments_lexer": "ipython3",
   "version": "3.11.5"
  }
 },
 "nbformat": 4,
 "nbformat_minor": 5
}
