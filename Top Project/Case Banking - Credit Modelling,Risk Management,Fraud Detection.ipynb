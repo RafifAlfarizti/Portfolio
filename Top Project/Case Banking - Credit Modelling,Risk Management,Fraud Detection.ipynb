{
 "cells": [
  {
   "cell_type": "markdown",
   "id": "7f7232a0",
   "metadata": {},
   "source": [
    "# Credit Modelling"
   ]
  },
  {
   "cell_type": "code",
   "execution_count": 1,
   "id": "ea396035",
   "metadata": {},
   "outputs": [],
   "source": [
    "import pandas as pd\n",
    "import numpy as np\n",
    "from sklearn.model_selection import train_test_split\n",
    "from sklearn.linear_model import LogisticRegression\n",
    "from sklearn.metrics import classification_report"
   ]
  },
  {
   "cell_type": "markdown",
   "id": "03d2c433",
   "metadata": {},
   "source": [
    "berikut adalah penjelasan dari variabel-variabel yang saya buat dalam kode Python untuk simulasi data perbankan:\n",
    "\n",
    "umur: Merupakan usia klien dalam tahun. Nilai acak antara 18 hingga 70 tahun.\n",
    "pendapatan_tahunan: Pendapatan tahunan klien dalam dolar. Nilai acak antara 5,000 hingga 75,000 dolar.\n",
    "\n",
    "skor_kredit: Skor kredit yang dimiliki klien. Nilai acak antara 300 hingga 850, yang mencerminkan kualitas kredit klien.\n",
    "\n",
    "jumlah_pinjaman: Jumlah uang yang dipinjam oleh klien dalam dolar. Nilai acak antara 1,000 hingga 50,000 dolar.\n",
    "\n",
    "durasi_pinjaman_bulan: Durasi pinjaman dalam bulan. Nilai acak antara 12 hingga 60 bulan.\n",
    "\n",
    "default: Variabel biner yang menunjukkan apakah klien gagal bayar (default) atau tidak. Nilai 0 berarti klien tidak default, dan nilai 1 berarti klien default. Probabilitas default adalah 20%."
   ]
  },
  {
   "cell_type": "code",
   "execution_count": 2,
   "id": "70264f6a",
   "metadata": {},
   "outputs": [
    {
     "data": {
      "text/html": [
       "<div>\n",
       "<style scoped>\n",
       "    .dataframe tbody tr th:only-of-type {\n",
       "        vertical-align: middle;\n",
       "    }\n",
       "\n",
       "    .dataframe tbody tr th {\n",
       "        vertical-align: top;\n",
       "    }\n",
       "\n",
       "    .dataframe thead th {\n",
       "        text-align: right;\n",
       "    }\n",
       "</style>\n",
       "<table border=\"1\" class=\"dataframe\">\n",
       "  <thead>\n",
       "    <tr style=\"text-align: right;\">\n",
       "      <th></th>\n",
       "      <th>umur</th>\n",
       "      <th>pendapatan_tahunan</th>\n",
       "      <th>skor_kredit</th>\n",
       "      <th>jumlah_pinjaman</th>\n",
       "      <th>durasi_pinjaman_bulan</th>\n",
       "      <th>default</th>\n",
       "    </tr>\n",
       "  </thead>\n",
       "  <tbody>\n",
       "    <tr>\n",
       "      <th>0</th>\n",
       "      <td>62</td>\n",
       "      <td>58478</td>\n",
       "      <td>684</td>\n",
       "      <td>25253</td>\n",
       "      <td>17</td>\n",
       "      <td>0</td>\n",
       "    </tr>\n",
       "    <tr>\n",
       "      <th>1</th>\n",
       "      <td>65</td>\n",
       "      <td>50560</td>\n",
       "      <td>301</td>\n",
       "      <td>46314</td>\n",
       "      <td>45</td>\n",
       "      <td>1</td>\n",
       "    </tr>\n",
       "    <tr>\n",
       "      <th>2</th>\n",
       "      <td>18</td>\n",
       "      <td>73246</td>\n",
       "      <td>412</td>\n",
       "      <td>46337</td>\n",
       "      <td>43</td>\n",
       "      <td>0</td>\n",
       "    </tr>\n",
       "    <tr>\n",
       "      <th>3</th>\n",
       "      <td>21</td>\n",
       "      <td>19591</td>\n",
       "      <td>407</td>\n",
       "      <td>21270</td>\n",
       "      <td>20</td>\n",
       "      <td>0</td>\n",
       "    </tr>\n",
       "    <tr>\n",
       "      <th>4</th>\n",
       "      <td>21</td>\n",
       "      <td>28059</td>\n",
       "      <td>449</td>\n",
       "      <td>14701</td>\n",
       "      <td>45</td>\n",
       "      <td>0</td>\n",
       "    </tr>\n",
       "    <tr>\n",
       "      <th>...</th>\n",
       "      <td>...</td>\n",
       "      <td>...</td>\n",
       "      <td>...</td>\n",
       "      <td>...</td>\n",
       "      <td>...</td>\n",
       "      <td>...</td>\n",
       "    </tr>\n",
       "    <tr>\n",
       "      <th>995</th>\n",
       "      <td>54</td>\n",
       "      <td>26411</td>\n",
       "      <td>311</td>\n",
       "      <td>7955</td>\n",
       "      <td>12</td>\n",
       "      <td>0</td>\n",
       "    </tr>\n",
       "    <tr>\n",
       "      <th>996</th>\n",
       "      <td>19</td>\n",
       "      <td>29638</td>\n",
       "      <td>658</td>\n",
       "      <td>15541</td>\n",
       "      <td>16</td>\n",
       "      <td>0</td>\n",
       "    </tr>\n",
       "    <tr>\n",
       "      <th>997</th>\n",
       "      <td>47</td>\n",
       "      <td>68294</td>\n",
       "      <td>481</td>\n",
       "      <td>1228</td>\n",
       "      <td>57</td>\n",
       "      <td>1</td>\n",
       "    </tr>\n",
       "    <tr>\n",
       "      <th>998</th>\n",
       "      <td>23</td>\n",
       "      <td>70978</td>\n",
       "      <td>596</td>\n",
       "      <td>22708</td>\n",
       "      <td>34</td>\n",
       "      <td>0</td>\n",
       "    </tr>\n",
       "    <tr>\n",
       "      <th>999</th>\n",
       "      <td>34</td>\n",
       "      <td>65946</td>\n",
       "      <td>815</td>\n",
       "      <td>22561</td>\n",
       "      <td>42</td>\n",
       "      <td>0</td>\n",
       "    </tr>\n",
       "  </tbody>\n",
       "</table>\n",
       "<p>1000 rows × 6 columns</p>\n",
       "</div>"
      ],
      "text/plain": [
       "     umur  pendapatan_tahunan  skor_kredit  jumlah_pinjaman  \\\n",
       "0      62               58478          684            25253   \n",
       "1      65               50560          301            46314   \n",
       "2      18               73246          412            46337   \n",
       "3      21               19591          407            21270   \n",
       "4      21               28059          449            14701   \n",
       "..    ...                 ...          ...              ...   \n",
       "995    54               26411          311             7955   \n",
       "996    19               29638          658            15541   \n",
       "997    47               68294          481             1228   \n",
       "998    23               70978          596            22708   \n",
       "999    34               65946          815            22561   \n",
       "\n",
       "     durasi_pinjaman_bulan  default  \n",
       "0                       17        0  \n",
       "1                       45        1  \n",
       "2                       43        0  \n",
       "3                       20        0  \n",
       "4                       45        0  \n",
       "..                     ...      ...  \n",
       "995                     12        0  \n",
       "996                     16        0  \n",
       "997                     57        1  \n",
       "998                     34        0  \n",
       "999                     42        0  \n",
       "\n",
       "[1000 rows x 6 columns]"
      ]
     },
     "execution_count": 2,
     "metadata": {},
     "output_type": "execute_result"
    }
   ],
   "source": [
    "# Membuat data acak\n",
    "np.random.seed(0)\n",
    "data = {\n",
    "    'umur': np.random.randint(18, 70, 1000),\n",
    "    'pendapatan_tahunan': np.random.randint(5000, 75000, 1000),\n",
    "    'skor_kredit': np.random.randint(300, 850, 1000),\n",
    "    'jumlah_pinjaman': np.random.randint(1000, 50000, 1000),\n",
    "    'durasi_pinjaman_bulan': np.random.randint(12, 60, 1000),\n",
    "    'default': np.random.choice([0, 1], 1000, p=[0.8, 0.2])\n",
    "}\n",
    "\n",
    "df = pd.DataFrame(data)\n",
    "df"
   ]
  },
  {
   "cell_type": "code",
   "execution_count": 3,
   "id": "162405a3",
   "metadata": {},
   "outputs": [
    {
     "data": {
      "text/plain": [
       "default\n",
       "0    832\n",
       "1    168\n",
       "Name: count, dtype: int64"
      ]
     },
     "execution_count": 3,
     "metadata": {},
     "output_type": "execute_result"
    }
   ],
   "source": [
    "df['default'].value_counts()"
   ]
  },
  {
   "cell_type": "code",
   "execution_count": 4,
   "id": "9c1dbce2",
   "metadata": {},
   "outputs": [],
   "source": [
    "# Memisahkan data menjadi fitur dan target\n",
    "X = df.drop('default', axis=1)\n",
    "y = df['default']"
   ]
  },
  {
   "cell_type": "code",
   "execution_count": 5,
   "id": "94907397",
   "metadata": {},
   "outputs": [],
   "source": [
    "# Memisahkan data menjadi set pelatihan dan pengujian\n",
    "X_train, X_test, y_train, y_test = train_test_split(X, y, test_size=0.2, random_state=0)"
   ]
  },
  {
   "cell_type": "code",
   "execution_count": 6,
   "id": "22cd1fa3",
   "metadata": {},
   "outputs": [
    {
     "data": {
      "text/plain": [
       "array([0, 0, 0, 0, 0, 0, 0, 0, 0, 0, 0, 0, 0, 0, 0, 0, 0, 0, 0, 0, 0, 0,\n",
       "       0, 0, 0, 0, 0, 0, 0, 0, 0, 0, 0, 0, 0, 0, 0, 0, 0, 0, 0, 0, 0, 0,\n",
       "       0, 0, 0, 0, 0, 0, 0, 0, 0, 0, 0, 0, 0, 0, 0, 0, 0, 0, 0, 0, 0, 0,\n",
       "       0, 0, 0, 0, 0, 0, 0, 0, 0, 0, 0, 0, 0, 0, 0, 0, 0, 0, 0, 0, 0, 0,\n",
       "       0, 0, 0, 0, 0, 0, 0, 0, 0, 0, 0, 0, 0, 0, 0, 0, 0, 0, 0, 0, 0, 0,\n",
       "       0, 0, 0, 0, 0, 0, 0, 0, 0, 0, 0, 0, 0, 0, 0, 0, 0, 0, 0, 0, 0, 0,\n",
       "       0, 0, 0, 0, 0, 0, 0, 0, 0, 0, 0, 0, 0, 0, 0, 0, 0, 0, 0, 0, 0, 0,\n",
       "       0, 0, 0, 0, 0, 0, 0, 0, 0, 0, 0, 0, 0, 0, 0, 0, 0, 0, 0, 0, 0, 0,\n",
       "       0, 0, 0, 0, 0, 0, 0, 0, 0, 0, 0, 0, 0, 0, 0, 0, 0, 0, 0, 0, 0, 0,\n",
       "       0, 0])"
      ]
     },
     "execution_count": 6,
     "metadata": {},
     "output_type": "execute_result"
    }
   ],
   "source": [
    "# Membuat model Logistic Regression\n",
    "model = LogisticRegression()\n",
    "model.fit(X_train, y_train)\n",
    "\n",
    "# Memprediksi data pengujian\n",
    "predictions = model.predict(X_test)\n",
    "predictions"
   ]
  },
  {
   "cell_type": "markdown",
   "id": "f4917e22",
   "metadata": {},
   "source": [
    "Pada output, ternyata semua default menunjukkan angka 0 (non-default). Hal ini terjadi karena imbalance Data, dimana Jika data sangat tidak seimbang (misalnya, banyak lebih banyak non-default daripada default), model mungkin cenderung memprediksi nilai mayoritas. Dalam hal ini, teknik seperti oversampling, undersampling, atau penggunaan bobot kelas dapat membantu."
   ]
  },
  {
   "cell_type": "code",
   "execution_count": 7,
   "id": "e4785bbb",
   "metadata": {},
   "outputs": [
    {
     "name": "stdout",
     "output_type": "stream",
     "text": [
      "              precision    recall  f1-score   support\n",
      "\n",
      "           0       0.80      1.00      0.89       160\n",
      "           1       0.00      0.00      0.00        40\n",
      "\n",
      "    accuracy                           0.80       200\n",
      "   macro avg       0.40      0.50      0.44       200\n",
      "weighted avg       0.64      0.80      0.71       200\n",
      "\n"
     ]
    },
    {
     "name": "stderr",
     "output_type": "stream",
     "text": [
      "C:\\Users\\alfar\\AppData\\Roaming\\Python\\Python311\\site-packages\\sklearn\\metrics\\_classification.py:1344: UndefinedMetricWarning: Precision and F-score are ill-defined and being set to 0.0 in labels with no predicted samples. Use `zero_division` parameter to control this behavior.\n",
      "  _warn_prf(average, modifier, msg_start, len(result))\n",
      "C:\\Users\\alfar\\AppData\\Roaming\\Python\\Python311\\site-packages\\sklearn\\metrics\\_classification.py:1344: UndefinedMetricWarning: Precision and F-score are ill-defined and being set to 0.0 in labels with no predicted samples. Use `zero_division` parameter to control this behavior.\n",
      "  _warn_prf(average, modifier, msg_start, len(result))\n",
      "C:\\Users\\alfar\\AppData\\Roaming\\Python\\Python311\\site-packages\\sklearn\\metrics\\_classification.py:1344: UndefinedMetricWarning: Precision and F-score are ill-defined and being set to 0.0 in labels with no predicted samples. Use `zero_division` parameter to control this behavior.\n",
      "  _warn_prf(average, modifier, msg_start, len(result))\n"
     ]
    }
   ],
   "source": [
    "# Menampilkan laporan klasifikasi\n",
    "print(classification_report(y_test, predictions))"
   ]
  },
  {
   "cell_type": "markdown",
   "id": "9d89fea9",
   "metadata": {},
   "source": [
    "# Evaluasi model dengan berbagai threshold"
   ]
  },
  {
   "cell_type": "code",
   "execution_count": 8,
   "id": "9d5a8c25",
   "metadata": {},
   "outputs": [],
   "source": [
    "from sklearn.metrics import confusion_matrix, precision_recall_curve\n",
    "import matplotlib.pyplot as plt"
   ]
  },
  {
   "cell_type": "code",
   "execution_count": 9,
   "id": "78cf300d",
   "metadata": {},
   "outputs": [],
   "source": [
    "# Asumsikan 'model' adalah model yang telah dilatih dan 'X_test' adalah data pengujian\n",
    "y_scores = model.predict_proba(X_test)[:, 1]  # Skor probabilitas kelas positif"
   ]
  },
  {
   "cell_type": "code",
   "execution_count": 10,
   "id": "fcf5e772",
   "metadata": {},
   "outputs": [
    {
     "name": "stdout",
     "output_type": "stream",
     "text": [
      "0.08989510883604543\n",
      "[1 1 1 1 1 1 1 1 1 1 1 1 1 1 1 1 1 1 1 1 1 1 1 1 1 1 1 1 0 1 1 1 1 1 1 1 1\n",
      " 1 1 1 1 1 1 1 1 1 1 1 1 1 1 1 1 1 1 1 1 1 1 1 1 1 1 1 1 1 1 1 1 0 1 1 1 1\n",
      " 1 1 1 1 1 1 1 1 1 1 1 1 1 1 1 1 1 1 1 1 1 1 1 1 1 1 1 1 1 1 1 1 1 1 1 1 1\n",
      " 1 1 1 1 1 1 1 1 1 1 1 1 1 1 1 1 1 1 1 1 1 1 1 1 1 1 1 1 1 1 1 1 1 1 1 1 1\n",
      " 1 1 1 1 1 1 1 1 1 1 1 1 1 1 1 1 1 1 1 1 1 1 1 1 1 1 1 1 1 1 1 1 1 1 1 1 1\n",
      " 1 1 1 1 1 1 1 1 1 1 1 1 1 1 1]\n"
     ]
    }
   ],
   "source": [
    "# Menghitung precision dan recall untuk berbagai ambang batas keputusan\n",
    "precisions, recalls, thresholds = precision_recall_curve(y_test, y_scores)\n",
    "\n",
    "# Mencari ambang batas yang memberikan trade-off terbaik antara precision dan recall\n",
    "best_threshold = thresholds[np.argmax(precisions + recalls)]\n",
    "\n",
    "# Menyesuaikan prediksi berdasarkan ambang batas baru\n",
    "y_pred_adjusted = (y_scores >= best_threshold).astype(int)\n",
    "\n",
    "print(best_threshold)\n",
    "print(y_pred_adjusted)"
   ]
  },
  {
   "cell_type": "code",
   "execution_count": 11,
   "id": "5a232fa2",
   "metadata": {},
   "outputs": [
    {
     "data": {
      "image/png": "[encoded data removed]",
      "text/plain": [
       "<Figure size 800x400 with 1 Axes>"
      ]
     },
     "metadata": {},
     "output_type": "display_data"
    }
   ],
   "source": [
    "# Visualisasi precision-recall trade-off\n",
    "plt.figure(figsize=(8, 4))\n",
    "plt.plot(thresholds, precisions[:-1], \"b--\", label=\"Precision\")\n",
    "plt.plot(thresholds, recalls[:-1], \"g-\", label=\"Recall\")\n",
    "plt.xlabel('Threshold')\n",
    "plt.legend(loc=\"upper left\")\n",
    "plt.ylim([0, 1])\n",
    "plt.show()"
   ]
  },
  {
   "cell_type": "markdown",
   "id": "66728130",
   "metadata": {},
   "source": [
    "Langkah selanjutnya adalah:\n",
    "\n",
    "1. Uji Model dengan Data Terbaru: Jika memungkinkan, uji model dengan set data terbaru atau data ‘out-of-time’ yang tidak digunakan selama proses pelatihan atau validasi untuk melihat bagaimana performanya pada data yang benar-benar baru.\n",
    "2. Penyesuaian Ambang Batas: Sesuaikan ambang batas keputusan untuk klasifikasi fraud sesuai dengan kebijakan bank dan biaya yang terkait dengan false positives dan false negatives.\n",
    "3. Integrasi Model ke Sistem Operasional: Integrasikan model SVM ke dalam sistem operasional bank untuk memonitor transaksi secara real-time atau batch, tergantung pada kebutuhan dan infrastruktur bank.\n",
    "4. Monitoring dan Pembaruan Model: Setelah model diterapkan, monitor performanya secara berkala dan siapkan untuk melakukan pembaruan atau pelatihan ulang model dengan data baru untuk menjaga agar model tetap relevan dan akurat.\n",
    "5. Model SVM yang telah dilatih dan divalidasi ini akan digunakan untuk memprediksi fraud pada transaksi yang akan datang. Setiap transaksi baru akan diinput ke dalam model sebagai vektor fitur, dan model akan menghasilkan prediksi apakah transaksi tersebut adalah fraud atau bukan. Ini memungkinkan bank untuk secara proaktif mendeteksi dan mencegah kecurangan, sehingga mengurangi risiko kerugian finansial. Penting untuk diingat bahwa model harus diuji dan dipantau secara terus-menerus untuk memastikan bahwa ia tetap efektif seiring berjalannya waktu dan perubahan pola fraud."
   ]
  },
  {
   "cell_type": "code",
   "execution_count": 21,
   "id": "6c7c1197",
   "metadata": {},
   "outputs": [
    {
     "name": "stdout",
     "output_type": "stream",
     "text": [
      "   umur  pendapatan_tahunan  skor_kredit  jumlah_pinjaman  \\\n",
      "0    64               64084          433            15935   \n",
      "1    67               38522          746            21543   \n",
      "2    42               49153          378             5720   \n",
      "3    58               65377          622            21808   \n",
      "4    69               69814          306            34655   \n",
      "\n",
      "   durasi_pinjaman_bulan  default  \n",
      "0                     49        0  \n",
      "1                     34        1  \n",
      "2                     27        0  \n",
      "3                     19        0  \n",
      "4                     50        0  \n"
     ]
    }
   ],
   "source": [
    "# Membuat data acak baru\n",
    "data_baru = {\n",
    "    'umur': np.random.randint(18, 70, 1000),\n",
    "    'pendapatan_tahunan': np.random.randint(5000, 75000, 1000),\n",
    "    'skor_kredit': np.random.randint(300, 850, 1000),\n",
    "    'jumlah_pinjaman': np.random.randint(1000, 50000, 1000),\n",
    "    'durasi_pinjaman_bulan': np.random.randint(12, 60, 1000),\n",
    "    'default': np.random.choice([0, 1], 1000, p=[0.8, 0.2])\n",
    "}\n",
    "\n",
    "# Mengonversi dictionary ke DataFrame\n",
    "data_frame_baru = pd.DataFrame(data_baru)\n",
    "\n",
    "# Menampilkan beberapa baris pertama dari data frame baru\n",
    "print(data_frame_baru.head())"
   ]
  },
  {
   "cell_type": "code",
   "execution_count": 23,
   "id": "75fbd891",
   "metadata": {},
   "outputs": [
    {
     "name": "stdout",
     "output_type": "stream",
     "text": [
      "              precision    recall  f1-score   support\n",
      "\n",
      "           0       0.79      1.00      0.88       793\n",
      "           1       0.00      0.00      0.00       207\n",
      "\n",
      "    accuracy                           0.79      1000\n",
      "   macro avg       0.40      0.50      0.44      1000\n",
      "weighted avg       0.63      0.79      0.70      1000\n",
      "\n"
     ]
    },
    {
     "name": "stderr",
     "output_type": "stream",
     "text": [
      "C:\\Users\\alfar\\AppData\\Roaming\\Python\\Python311\\site-packages\\sklearn\\metrics\\_classification.py:1344: UndefinedMetricWarning: Precision and F-score are ill-defined and being set to 0.0 in labels with no predicted samples. Use `zero_division` parameter to control this behavior.\n",
      "  _warn_prf(average, modifier, msg_start, len(result))\n",
      "C:\\Users\\alfar\\AppData\\Roaming\\Python\\Python311\\site-packages\\sklearn\\metrics\\_classification.py:1344: UndefinedMetricWarning: Precision and F-score are ill-defined and being set to 0.0 in labels with no predicted samples. Use `zero_division` parameter to control this behavior.\n",
      "  _warn_prf(average, modifier, msg_start, len(result))\n",
      "C:\\Users\\alfar\\AppData\\Roaming\\Python\\Python311\\site-packages\\sklearn\\metrics\\_classification.py:1344: UndefinedMetricWarning: Precision and F-score are ill-defined and being set to 0.0 in labels with no predicted samples. Use `zero_division` parameter to control this behavior.\n",
      "  _warn_prf(average, modifier, msg_start, len(result))\n"
     ]
    }
   ],
   "source": [
    "X_terbaru = data_frame_baru.drop('default', axis=1)  # asumsikan 'label' adalah kolom target\n",
    "y_terbaru = data_frame_baru['default']\n",
    "\n",
    "# Gunakan model yang telah dilatih untuk memprediksi data terbaru\n",
    "y_pred_terbaru = model.predict(X_terbaru)\n",
    "\n",
    "# Evaluasi kinerja model pada data terbaru\n",
    "print(classification_report(y_terbaru, y_pred_terbaru))"
   ]
  },
  {
   "cell_type": "code",
   "execution_count": 24,
   "id": "68e03a20",
   "metadata": {},
   "outputs": [
    {
     "name": "stdout",
     "output_type": "stream",
     "text": [
      "              precision    recall  f1-score   support\n",
      "\n",
      "           0       0.79      1.00      0.88       793\n",
      "           1       0.00      0.00      0.00       207\n",
      "\n",
      "    accuracy                           0.79      1000\n",
      "   macro avg       0.40      0.50      0.44      1000\n",
      "weighted avg       0.63      0.79      0.70      1000\n",
      "\n"
     ]
    },
    {
     "name": "stderr",
     "output_type": "stream",
     "text": [
      "C:\\Users\\alfar\\AppData\\Roaming\\Python\\Python311\\site-packages\\sklearn\\metrics\\_classification.py:1344: UndefinedMetricWarning: Precision and F-score are ill-defined and being set to 0.0 in labels with no predicted samples. Use `zero_division` parameter to control this behavior.\n",
      "  _warn_prf(average, modifier, msg_start, len(result))\n",
      "C:\\Users\\alfar\\AppData\\Roaming\\Python\\Python311\\site-packages\\sklearn\\metrics\\_classification.py:1344: UndefinedMetricWarning: Precision and F-score are ill-defined and being set to 0.0 in labels with no predicted samples. Use `zero_division` parameter to control this behavior.\n",
      "  _warn_prf(average, modifier, msg_start, len(result))\n",
      "C:\\Users\\alfar\\AppData\\Roaming\\Python\\Python311\\site-packages\\sklearn\\metrics\\_classification.py:1344: UndefinedMetricWarning: Precision and F-score are ill-defined and being set to 0.0 in labels with no predicted samples. Use `zero_division` parameter to control this behavior.\n",
      "  _warn_prf(average, modifier, msg_start, len(result))\n"
     ]
    }
   ],
   "source": [
    "# Ambil probabilitas prediksi dari kelas positif (fraud)\n",
    "y_scores_terbaru = model.decision_function(X_terbaru)\n",
    "\n",
    "# Tentukan ambang batas baru\n",
    "threshold_baru = 0.5  # Sesuaikan nilai ini berdasarkan kebutuhan\n",
    "\n",
    "# Buat prediksi berdasarkan ambang batas baru\n",
    "y_pred_adjusted = (y_scores_terbaru >= threshold_baru).astype(int)\n",
    "\n",
    "# Evaluasi kinerja dengan ambang batas baru\n",
    "print(classification_report(y_terbaru, y_pred_adjusted))"
   ]
  },
  {
   "cell_type": "code",
   "execution_count": 29,
   "id": "7960deb2",
   "metadata": {},
   "outputs": [],
   "source": [
    "import joblib as joblib\n",
    "# Simpan model yang telah dilatih\n",
    "joblib.dump(model, 'svm_fraud_detection.pkl')\n",
    "\n",
    "# Di sistem operasional, muat model dan gunakan untuk prediksi real-time atau batch\n",
    "model_operasional = joblib.load('svm_fraud_detection.pkl')\n",
    "\n",
    "# Contoh prediksi real-time\n",
    "# Misalkan 'transaksi_baru' adalah data transaksi yang baru masuk\n",
    "prediksi_real_time = model_operasional.predict(X_terbaru)"
   ]
  },
  {
   "cell_type": "code",
   "execution_count": 32,
   "id": "17ea9d94",
   "metadata": {},
   "outputs": [
    {
     "name": "stdout",
     "output_type": "stream",
     "text": [
      "              precision    recall  f1-score   support\n",
      "\n",
      "           0       0.79      1.00      0.88       793\n",
      "           1       0.00      0.00      0.00       207\n",
      "\n",
      "    accuracy                           0.79      1000\n",
      "   macro avg       0.40      0.50      0.44      1000\n",
      "weighted avg       0.63      0.79      0.70      1000\n",
      "\n"
     ]
    },
    {
     "name": "stderr",
     "output_type": "stream",
     "text": [
      "C:\\Users\\alfar\\AppData\\Roaming\\Python\\Python311\\site-packages\\sklearn\\metrics\\_classification.py:1344: UndefinedMetricWarning: Precision and F-score are ill-defined and being set to 0.0 in labels with no predicted samples. Use `zero_division` parameter to control this behavior.\n",
      "  _warn_prf(average, modifier, msg_start, len(result))\n",
      "C:\\Users\\alfar\\AppData\\Roaming\\Python\\Python311\\site-packages\\sklearn\\metrics\\_classification.py:1344: UndefinedMetricWarning: Precision and F-score are ill-defined and being set to 0.0 in labels with no predicted samples. Use `zero_division` parameter to control this behavior.\n",
      "  _warn_prf(average, modifier, msg_start, len(result))\n",
      "C:\\Users\\alfar\\AppData\\Roaming\\Python\\Python311\\site-packages\\sklearn\\metrics\\_classification.py:1344: UndefinedMetricWarning: Precision and F-score are ill-defined and being set to 0.0 in labels with no predicted samples. Use `zero_division` parameter to control this behavior.\n",
      "  _warn_prf(average, modifier, msg_start, len(result))\n"
     ]
    },
    {
     "data": {
      "text/plain": [
       "['svm_fraud_detection_updated.pkl']"
      ]
     },
     "execution_count": 32,
     "metadata": {},
     "output_type": "execute_result"
    }
   ],
   "source": [
    "# Monitoring performa model secara berkala\n",
    "# Misalkan 'monitoring_data' adalah data yang digunakan untuk monitoring\n",
    "y_pred_monitoring = model_operasional.predict(data_frame_baru.drop('default', axis=1))\n",
    "print(classification_report(data_frame_baru['default'], y_pred_monitoring))\n",
    "\n",
    "# Jika performa model menurun, lakukan pelatihan ulang dengan data baru\n",
    "# Misalkan 'data_pelatihan_baru' adalah data baru untuk pelatihan\n",
    "model_operasional.fit(data_frame_baru.drop('default', axis=1), data_frame_baru['default'])\n",
    "\n",
    "# Simpan model yang telah diperbarui\n",
    "joblib.dump(model_operasional, 'svm_fraud_detection_updated.pkl')"
   ]
  },
  {
   "cell_type": "markdown",
   "id": "1bf58886",
   "metadata": {},
   "source": [
    "# Manajemen Risiko"
   ]
  },
  {
   "cell_type": "code",
   "execution_count": 12,
   "id": "60c48563",
   "metadata": {},
   "outputs": [
    {
     "data": {
      "text/html": [
       "<div>\n",
       "<style scoped>\n",
       "    .dataframe tbody tr th:only-of-type {\n",
       "        vertical-align: middle;\n",
       "    }\n",
       "\n",
       "    .dataframe tbody tr th {\n",
       "        vertical-align: top;\n",
       "    }\n",
       "\n",
       "    .dataframe thead th {\n",
       "        text-align: right;\n",
       "    }\n",
       "</style>\n",
       "<table border=\"1\" class=\"dataframe\">\n",
       "  <thead>\n",
       "    <tr style=\"text-align: right;\">\n",
       "      <th></th>\n",
       "      <th>Jumlah_Pinjaman</th>\n",
       "      <th>Probabilitas_Default</th>\n",
       "      <th>Loss_Given_Default</th>\n",
       "    </tr>\n",
       "  </thead>\n",
       "  <tbody>\n",
       "    <tr>\n",
       "      <th>0</th>\n",
       "      <td>288202</td>\n",
       "      <td>0.166162</td>\n",
       "      <td>0.596196</td>\n",
       "    </tr>\n",
       "    <tr>\n",
       "      <th>1</th>\n",
       "      <td>220007</td>\n",
       "      <td>0.143100</td>\n",
       "      <td>0.449170</td>\n",
       "    </tr>\n",
       "    <tr>\n",
       "      <th>2</th>\n",
       "      <td>248936</td>\n",
       "      <td>0.177785</td>\n",
       "      <td>0.542101</td>\n",
       "    </tr>\n",
       "    <tr>\n",
       "      <th>3</th>\n",
       "      <td>312044</td>\n",
       "      <td>0.193649</td>\n",
       "      <td>0.501023</td>\n",
       "    </tr>\n",
       "    <tr>\n",
       "      <th>4</th>\n",
       "      <td>293377</td>\n",
       "      <td>0.157202</td>\n",
       "      <td>0.495755</td>\n",
       "    </tr>\n",
       "    <tr>\n",
       "      <th>...</th>\n",
       "      <td>...</td>\n",
       "      <td>...</td>\n",
       "      <td>...</td>\n",
       "    </tr>\n",
       "    <tr>\n",
       "      <th>995</th>\n",
       "      <td>220643</td>\n",
       "      <td>0.105670</td>\n",
       "      <td>0.511842</td>\n",
       "    </tr>\n",
       "    <tr>\n",
       "      <th>996</th>\n",
       "      <td>190080</td>\n",
       "      <td>0.127960</td>\n",
       "      <td>0.536391</td>\n",
       "    </tr>\n",
       "    <tr>\n",
       "      <th>997</th>\n",
       "      <td>204709</td>\n",
       "      <td>0.168268</td>\n",
       "      <td>0.432071</td>\n",
       "    </tr>\n",
       "    <tr>\n",
       "      <th>998</th>\n",
       "      <td>142619</td>\n",
       "      <td>0.117273</td>\n",
       "      <td>0.592820</td>\n",
       "    </tr>\n",
       "    <tr>\n",
       "      <th>999</th>\n",
       "      <td>182094</td>\n",
       "      <td>0.027284</td>\n",
       "      <td>0.490250</td>\n",
       "    </tr>\n",
       "  </tbody>\n",
       "</table>\n",
       "<p>1000 rows × 3 columns</p>\n",
       "</div>"
      ],
      "text/plain": [
       "     Jumlah_Pinjaman  Probabilitas_Default  Loss_Given_Default\n",
       "0             288202              0.166162            0.596196\n",
       "1             220007              0.143100            0.449170\n",
       "2             248936              0.177785            0.542101\n",
       "3             312044              0.193649            0.501023\n",
       "4             293377              0.157202            0.495755\n",
       "..               ...                   ...                 ...\n",
       "995           220643              0.105670            0.511842\n",
       "996           190080              0.127960            0.536391\n",
       "997           204709              0.168268            0.432071\n",
       "998           142619              0.117273            0.592820\n",
       "999           182094              0.027284            0.490250\n",
       "\n",
       "[1000 rows x 3 columns]"
      ]
     },
     "execution_count": 12,
     "metadata": {},
     "output_type": "execute_result"
    }
   ],
   "source": [
    "# Mengatur seed untuk reproducibility\n",
    "np.random.seed(0)\n",
    "\n",
    "# Membuat data simulasi portofolio pinjaman\n",
    "portofolio = pd.DataFrame({\n",
    "    'Jumlah_Pinjaman': np.random.normal(loc=200000, scale=50000, size=1000).astype(int),\n",
    "    'Probabilitas_Default': np.random.uniform(low=0.01, high=0.2, size=1000),\n",
    "    'Loss_Given_Default': np.random.uniform(low=0.4, high=0.6, size=1000)\n",
    "})\n",
    "portofolio"
   ]
  },
  {
   "cell_type": "code",
   "execution_count": 13,
   "id": "43752569",
   "metadata": {},
   "outputs": [
    {
     "data": {
      "text/plain": [
       "0      28550.715676\n",
       "1      14141.258795\n",
       "2      23991.779283\n",
       "3      30275.344499\n",
       "4      22863.933501\n",
       "           ...     \n",
       "995    11933.802711\n",
       "996    13046.423871\n",
       "997    14883.076895\n",
       "998     9915.167982\n",
       "999     2435.703408\n",
       "Name: Eksposur_Kerugian, Length: 1000, dtype: float64"
      ]
     },
     "execution_count": 13,
     "metadata": {},
     "output_type": "execute_result"
    }
   ],
   "source": [
    "# Menghitung eksposur kerugian potensial\n",
    "portofolio['Eksposur_Kerugian'] = portofolio['Jumlah_Pinjaman'] * portofolio['Probabilitas_Default'] * portofolio['Loss_Given_Default']\n",
    "portofolio['Eksposur_Kerugian']"
   ]
  },
  {
   "cell_type": "code",
   "execution_count": 14,
   "id": "8f34e572",
   "metadata": {},
   "outputs": [
    {
     "name": "stdout",
     "output_type": "stream",
     "text": [
      "Value at Risk (VaR) pada confidence interval 95% adalah: IDR 22369.25\n"
     ]
    },
    {
     "data": {
      "text/plain": [
       "22369.246290833165"
      ]
     },
     "execution_count": 14,
     "metadata": {},
     "output_type": "execute_result"
    }
   ],
   "source": [
    "# Menghitung VaR dengan confidence interval 95%\n",
    "VaR_95 = np.percentile(portofolio['Eksposur_Kerugian'], 95)\n",
    "print(f'Value at Risk (VaR) pada confidence interval 95% adalah: IDR {VaR_95:.2f}')\n",
    "VaR_95"
   ]
  },
  {
   "cell_type": "markdown",
   "id": "8414bd5a",
   "metadata": {},
   "source": [
    "Interpretasi: Dengan confidence interval 95%, bank dapat yakin bahwa kerugian maksimum yang akan dialami dalam satu hari tidak akan melebihi nilai VaR yang dihitung."
   ]
  },
  {
   "cell_type": "markdown",
   "id": "6953a068",
   "metadata": {},
   "source": [
    "# Deteksi Fraud (Kecurangan)"
   ]
  },
  {
   "cell_type": "code",
   "execution_count": 15,
   "id": "6ea5c7b0",
   "metadata": {},
   "outputs": [],
   "source": [
    "import pandas as pd\n",
    "import numpy as np\n",
    "from sklearn.ensemble import IsolationForest\n",
    "from sklearn.preprocessing import StandardScaler\n",
    "from sklearn.cluster import KMeans"
   ]
  },
  {
   "cell_type": "code",
   "execution_count": 16,
   "id": "5b43428c",
   "metadata": {},
   "outputs": [
    {
     "data": {
      "text/html": [
       "<div>\n",
       "<style scoped>\n",
       "    .dataframe tbody tr th:only-of-type {\n",
       "        vertical-align: middle;\n",
       "    }\n",
       "\n",
       "    .dataframe tbody tr th {\n",
       "        vertical-align: top;\n",
       "    }\n",
       "\n",
       "    .dataframe thead th {\n",
       "        text-align: right;\n",
       "    }\n",
       "</style>\n",
       "<table border=\"1\" class=\"dataframe\">\n",
       "  <thead>\n",
       "    <tr style=\"text-align: right;\">\n",
       "      <th></th>\n",
       "      <th>Umur</th>\n",
       "      <th>Pendapatan_Tahunan</th>\n",
       "      <th>Skor_Kredit</th>\n",
       "      <th>Jumlah_Pinjaman</th>\n",
       "      <th>Durasi_Pinjaman_Bulan</th>\n",
       "      <th>Jumlah_Transaksi</th>\n",
       "      <th>Frekuensi_Transaksi_Bulanan</th>\n",
       "    </tr>\n",
       "  </thead>\n",
       "  <tbody>\n",
       "    <tr>\n",
       "      <th>0</th>\n",
       "      <td>62</td>\n",
       "      <td>45555</td>\n",
       "      <td>475</td>\n",
       "      <td>194667</td>\n",
       "      <td>25</td>\n",
       "      <td>38</td>\n",
       "      <td>1</td>\n",
       "    </tr>\n",
       "    <tr>\n",
       "      <th>1</th>\n",
       "      <td>18</td>\n",
       "      <td>65804</td>\n",
       "      <td>746</td>\n",
       "      <td>175339</td>\n",
       "      <td>35</td>\n",
       "      <td>36</td>\n",
       "      <td>3</td>\n",
       "    </tr>\n",
       "    <tr>\n",
       "      <th>2</th>\n",
       "      <td>21</td>\n",
       "      <td>46425</td>\n",
       "      <td>653</td>\n",
       "      <td>229765</td>\n",
       "      <td>19</td>\n",
       "      <td>7</td>\n",
       "      <td>9</td>\n",
       "    </tr>\n",
       "    <tr>\n",
       "      <th>3</th>\n",
       "      <td>21</td>\n",
       "      <td>49113</td>\n",
       "      <td>324</td>\n",
       "      <td>258207</td>\n",
       "      <td>24</td>\n",
       "      <td>14</td>\n",
       "      <td>15</td>\n",
       "    </tr>\n",
       "    <tr>\n",
       "      <th>4</th>\n",
       "      <td>57</td>\n",
       "      <td>72423</td>\n",
       "      <td>437</td>\n",
       "      <td>188385</td>\n",
       "      <td>14</td>\n",
       "      <td>37</td>\n",
       "      <td>0</td>\n",
       "    </tr>\n",
       "    <tr>\n",
       "      <th>...</th>\n",
       "      <td>...</td>\n",
       "      <td>...</td>\n",
       "      <td>...</td>\n",
       "      <td>...</td>\n",
       "      <td>...</td>\n",
       "      <td>...</td>\n",
       "      <td>...</td>\n",
       "    </tr>\n",
       "    <tr>\n",
       "      <th>995</th>\n",
       "      <td>39</td>\n",
       "      <td>27334</td>\n",
       "      <td>752</td>\n",
       "      <td>172115</td>\n",
       "      <td>33</td>\n",
       "      <td>57</td>\n",
       "      <td>11</td>\n",
       "    </tr>\n",
       "    <tr>\n",
       "      <th>996</th>\n",
       "      <td>38</td>\n",
       "      <td>54310</td>\n",
       "      <td>526</td>\n",
       "      <td>182331</td>\n",
       "      <td>47</td>\n",
       "      <td>60</td>\n",
       "      <td>4</td>\n",
       "    </tr>\n",
       "    <tr>\n",
       "      <th>997</th>\n",
       "      <td>60</td>\n",
       "      <td>61609</td>\n",
       "      <td>550</td>\n",
       "      <td>237147</td>\n",
       "      <td>55</td>\n",
       "      <td>23</td>\n",
       "      <td>2</td>\n",
       "    </tr>\n",
       "    <tr>\n",
       "      <th>998</th>\n",
       "      <td>35</td>\n",
       "      <td>15170</td>\n",
       "      <td>605</td>\n",
       "      <td>242199</td>\n",
       "      <td>39</td>\n",
       "      <td>3</td>\n",
       "      <td>9</td>\n",
       "    </tr>\n",
       "    <tr>\n",
       "      <th>999</th>\n",
       "      <td>55</td>\n",
       "      <td>49323</td>\n",
       "      <td>842</td>\n",
       "      <td>217148</td>\n",
       "      <td>28</td>\n",
       "      <td>87</td>\n",
       "      <td>18</td>\n",
       "    </tr>\n",
       "  </tbody>\n",
       "</table>\n",
       "<p>1000 rows × 7 columns</p>\n",
       "</div>"
      ],
      "text/plain": [
       "     Umur  Pendapatan_Tahunan  Skor_Kredit  Jumlah_Pinjaman  \\\n",
       "0      62               45555          475           194667   \n",
       "1      18               65804          746           175339   \n",
       "2      21               46425          653           229765   \n",
       "3      21               49113          324           258207   \n",
       "4      57               72423          437           188385   \n",
       "..    ...                 ...          ...              ...   \n",
       "995    39               27334          752           172115   \n",
       "996    38               54310          526           182331   \n",
       "997    60               61609          550           237147   \n",
       "998    35               15170          605           242199   \n",
       "999    55               49323          842           217148   \n",
       "\n",
       "     Durasi_Pinjaman_Bulan  Jumlah_Transaksi  Frekuensi_Transaksi_Bulanan  \n",
       "0                       25                38                            1  \n",
       "1                       35                36                            3  \n",
       "2                       19                 7                            9  \n",
       "3                       24                14                           15  \n",
       "4                       14                37                            0  \n",
       "..                     ...               ...                          ...  \n",
       "995                     33                57                           11  \n",
       "996                     47                60                            4  \n",
       "997                     55                23                            2  \n",
       "998                     39                 3                            9  \n",
       "999                     28                87                           18  \n",
       "\n",
       "[1000 rows x 7 columns]"
      ]
     },
     "execution_count": 16,
     "metadata": {},
     "output_type": "execute_result"
    }
   ],
   "source": [
    "# Mengatur seed untuk reproducibility\n",
    "np.random.seed(0)\n",
    "\n",
    "# Membuat data acak untuk simulasi perbankan\n",
    "data_bank = pd.DataFrame({\n",
    "    'Umur': np.random.randint(18, 65, size=1000),\n",
    "    'Pendapatan_Tahunan': np.random.normal(loc=50000, scale=15000, size=1000).astype(int),\n",
    "    'Skor_Kredit': np.random.randint(300, 850, size=1000),\n",
    "    'Jumlah_Pinjaman': np.random.normal(loc=200000, scale=50000, size=1000).astype(int),\n",
    "    'Durasi_Pinjaman_Bulan': np.random.randint(12, 60, size=1000),\n",
    "    'Jumlah_Transaksi': np.random.randint(0, 100, size=1000),\n",
    "    'Frekuensi_Transaksi_Bulanan': np.random.randint(0, 20, size=1000)\n",
    "})\n",
    "data_bank"
   ]
  },
  {
   "cell_type": "code",
   "execution_count": 17,
   "id": "4850d1c4",
   "metadata": {},
   "outputs": [],
   "source": [
    "# Standarisasi data\n",
    "scaler = StandardScaler()\n",
    "data_scaled = scaler.fit_transform(data_bank)"
   ]
  },
  {
   "cell_type": "markdown",
   "id": "83cc5d8d",
   "metadata": {},
   "source": [
    "Metode yang digunakan adalah model Isolation Forest dengan 100 pohon estimator, tingkat kontaminasi 0.05 (yang merupakan perkiraan proporsi outlier dalam data), dan random_state=0 untuk memastikan hasil yang konsisten setiap kali model dijalankan.\n",
    "\n",
    "Fungsi fit_predict mengembalikan array yang berisi -1 untuk outlier dan 1 untuk inlier (data normal)."
   ]
  },
  {
   "cell_type": "code",
   "execution_count": 18,
   "id": "4c18c843",
   "metadata": {},
   "outputs": [
    {
     "data": {
      "text/plain": [
       "0      1\n",
       "1      1\n",
       "2      1\n",
       "3      1\n",
       "4      1\n",
       "      ..\n",
       "995    1\n",
       "996    1\n",
       "997    1\n",
       "998    1\n",
       "999    1\n",
       "Name: Outlier, Length: 1000, dtype: int32"
      ]
     },
     "execution_count": 18,
     "metadata": {},
     "output_type": "execute_result"
    }
   ],
   "source": [
    "# Deteksi outlier menggunakan Isolation Forest\n",
    "iso_forest = IsolationForest(n_estimators=100, contamination=0.05, random_state=0)\n",
    "outliers = iso_forest.fit_predict(data_scaled)\n",
    "\n",
    "# Menambahkan kolom 'Outlier' ke data_bank\n",
    "data_bank['Outlier'] = outliers\n",
    "data_bank['Outlier']"
   ]
  },
  {
   "cell_type": "code",
   "execution_count": 19,
   "id": "e3dbbc5c",
   "metadata": {},
   "outputs": [
    {
     "name": "stderr",
     "output_type": "stream",
     "text": [
      "C:\\Users\\alfar\\AppData\\Roaming\\Python\\Python311\\site-packages\\sklearn\\cluster\\_kmeans.py:870: FutureWarning: The default value of `n_init` will change from 10 to 'auto' in 1.4. Set the value of `n_init` explicitly to suppress the warning\n",
      "  warnings.warn(\n",
      "C:\\Users\\alfar\\AppData\\Roaming\\Python\\Python311\\site-packages\\sklearn\\cluster\\_kmeans.py:1382: UserWarning: KMeans is known to have a memory leak on Windows with MKL, when there are less chunks than available threads. You can avoid it by setting the environment variable OMP_NUM_THREADS=4.\n",
      "  warnings.warn(\n"
     ]
    }
   ],
   "source": [
    "# Clustering menggunakan KMeans untuk mengidentifikasi pola transaksi\n",
    "kmeans = KMeans(n_clusters=5, random_state=0)\n",
    "data_bank['Cluster'] = kmeans.fit_predict(data_scaled)"
   ]
  },
  {
   "cell_type": "code",
   "execution_count": 20,
   "id": "3c70080c",
   "metadata": {},
   "outputs": [
    {
     "name": "stdout",
     "output_type": "stream",
     "text": [
      "Jumlah outlier yang terdeteksi: 50\n",
      "Cluster 0: Ukuran Cluster = 200, Jumlah Outlier = 11\n",
      "Cluster 1: Ukuran Cluster = 186, Jumlah Outlier = 8\n",
      "Cluster 2: Ukuran Cluster = 206, Jumlah Outlier = 14\n",
      "Cluster 3: Ukuran Cluster = 194, Jumlah Outlier = 7\n",
      "Cluster 4: Ukuran Cluster = 214, Jumlah Outlier = 10\n"
     ]
    }
   ],
   "source": [
    "# Analisis hasil\n",
    "# Menghitung jumlah outlier yang terdeteksi\n",
    "jumlah_outlier = (data_bank['Outlier'] == -1).sum()\n",
    "print(f'Jumlah outlier yang terdeteksi: {jumlah_outlier}')\n",
    "\n",
    "# Menganalisis cluster untuk pola transaksi yang mencurigakan\n",
    "for i in range(5):\n",
    "    cluster_size = (data_bank['Cluster'] == i).sum()\n",
    "    cluster_outliers = data_bank[(data_bank['Cluster'] == i) & (data_bank['Outlier'] == -1)]\n",
    "    print(f'Cluster {i}: Ukuran Cluster = {cluster_size}, Jumlah Outlier = {len(cluster_outliers)}')"
   ]
  },
  {
   "cell_type": "markdown",
   "id": "edfce3e2",
   "metadata": {},
   "source": [
    "Dari informasi ini, kita dapat melihat bahwa outlier tersebar di seluruh klaster, yang menunjukkan bahwa transaksi yang mencurigakan tidak terbatas pada satu segmen atau pola transaksi tertentu. Ini menegaskan pentingnya analisis klaster dalam deteksi fraud karena memberikan wawasan tambahan tentang bagaimana transaksi mencurigakan tersebut terdistribusi di seluruh data.\n",
    "\n",
    "Selain itu, klaster dengan jumlah outlier yang lebih tinggi, seperti Cluster 2, mungkin memerlukan penyelidikan lebih lanjut untuk memahami mengapa klaster tersebut memiliki proporsi outlier yang lebih besar. Ini bisa jadi karena karakteristik tertentu dari transaksi dalam klaster tersebut atau indikasi adanya skema fraud yang lebih kompleks."
   ]
  },
  {
   "cell_type": "code",
   "execution_count": null,
   "id": "3bdac3e6",
   "metadata": {},
   "outputs": [],
   "source": []
  }
 ],
 "metadata": {
  "kernelspec": {
   "display_name": "Python 3 (ipykernel)",
   "language": "python",
   "name": "python3"
  },
  "language_info": {
   "codemirror_mode": {
    "name": "ipython",
    "version": 3
   },
   "file_extension": ".py",
   "mimetype": "text/x-python",
   "name": "python",
   "nbconvert_exporter": "python",
   "pygments_lexer": "ipython3",
   "version": "3.11.5"
  }
 },
 "nbformat": 4,
 "nbformat_minor": 5
}
