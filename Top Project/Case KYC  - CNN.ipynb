{
 "cells": [
  {
   "cell_type": "code",
   "execution_count": 1,
   "id": "a8587437",
   "metadata": {},
   "outputs": [],
   "source": [
    "import numpy as np\n",
    "import tensorflow as tf\n",
    "from tensorflow.keras import datasets, layers, models\n",
    "import matplotlib.pyplot as plt"
   ]
  },
  {
   "cell_type": "code",
   "execution_count": 2,
   "id": "d8d1f513",
   "metadata": {},
   "outputs": [],
   "source": [
    "# Menghasilkan data gambar acak\n",
    "jumlah_gambar = 1000  # Jumlah gambar yang ingin dihasilkan\n",
    "ukuran_gambar = (64, 64)  # Ukuran gambar (piksel x piksel)\n",
    "channel_warna = 3  # 3 untuk RGB, 1 untuk skala abu-abu\n",
    "\n",
    "# Membuat data gambar acak\n",
    "np.random.seed(0)\n",
    "data_gambar_acak = np.random.rand(jumlah_gambar, ukuran_gambar[0], ukuran_gambar[1], channel_warna)\n"
   ]
  },
  {
   "cell_type": "code",
   "execution_count": 3,
   "id": "6289d87c",
   "metadata": {},
   "outputs": [
    {
     "name": "stderr",
     "output_type": "stream",
     "text": [
      "C:\\Users\\alfar\\AppData\\Roaming\\Python\\Python311\\site-packages\\keras\\src\\layers\\convolutional\\base_conv.py:107: UserWarning: Do not pass an `input_shape`/`input_dim` argument to a layer. When using Sequential models, prefer using an `Input(shape)` object as the first layer in the model instead.\n",
      "  super().__init__(activity_regularizer=activity_regularizer, **kwargs)\n"
     ]
    }
   ],
   "source": [
    "# Membangun model CNN\n",
    "model = models.Sequential()\n",
    "model.add(layers.Conv2D(32, (3, 3), activation='relu', input_shape=(ukuran_gambar[0], ukuran_gambar[1], channel_warna)))\n",
    "model.add(layers.MaxPooling2D((2, 2)))\n",
    "model.add(layers.Conv2D(64, (3, 3), activation='relu'))\n",
    "model.add(layers.MaxPooling2D((2, 2)))\n",
    "model.add(layers.Conv2D(64, (3, 3), activation='relu'))"
   ]
  },
  {
   "cell_type": "code",
   "execution_count": 4,
   "id": "23f6953d",
   "metadata": {},
   "outputs": [],
   "source": [
    "# Menambahkan Dense layers di atasnya\n",
    "model.add(layers.Flatten())\n",
    "model.add(layers.Dense(64, activation='relu'))\n",
    "model.add(layers.Dense(10))  # Misalnya, 10 kelas untuk KYC"
   ]
  },
  {
   "cell_type": "code",
   "execution_count": 5,
   "id": "1d6d4101",
   "metadata": {},
   "outputs": [
    {
     "data": {
      "text/html": [
       "<pre style=\"white-space:pre;overflow-x:auto;line-height:normal;font-family:Menlo,'DejaVu Sans Mono',consolas,'Courier New',monospace\"><span style=\"font-weight: bold\">Model: \"sequential\"</span>\n",
       "</pre>\n"
      ],
      "text/plain": [
       "\u001b[1mModel: \"sequential\"\u001b[0m\n"
      ]
     },
     "metadata": {},
     "output_type": "display_data"
    },
    {
     "data": {
      "text/html": [
       "<pre style=\"white-space:pre;overflow-x:auto;line-height:normal;font-family:Menlo,'DejaVu Sans Mono',consolas,'Courier New',monospace\">┏━━━━━━━━━━━━━━━━━━━━━━━━━━━━━━━━━━━━━━┳━━━━━━━━━━━━━━━━━━━━━━━━━━━━━┳━━━━━━━━━━━━━━━━━┓\n",
       "┃<span style=\"font-weight: bold\"> Layer (type)                         </span>┃<span style=\"font-weight: bold\"> Output Shape                </span>┃<span style=\"font-weight: bold\">         Param # </span>┃\n",
       "┡━━━━━━━━━━━━━━━━━━━━━━━━━━━━━━━━━━━━━━╇━━━━━━━━━━━━━━━━━━━━━━━━━━━━━╇━━━━━━━━━━━━━━━━━┩\n",
       "│ conv2d (<span style=\"color: #0087ff; text-decoration-color: #0087ff\">Conv2D</span>)                      │ (<span style=\"color: #00d7ff; text-decoration-color: #00d7ff\">None</span>, <span style=\"color: #00af00; text-decoration-color: #00af00\">62</span>, <span style=\"color: #00af00; text-decoration-color: #00af00\">62</span>, <span style=\"color: #00af00; text-decoration-color: #00af00\">32</span>)          │             <span style=\"color: #00af00; text-decoration-color: #00af00\">896</span> │\n",
       "├──────────────────────────────────────┼─────────────────────────────┼─────────────────┤\n",
       "│ max_pooling2d (<span style=\"color: #0087ff; text-decoration-color: #0087ff\">MaxPooling2D</span>)         │ (<span style=\"color: #00d7ff; text-decoration-color: #00d7ff\">None</span>, <span style=\"color: #00af00; text-decoration-color: #00af00\">31</span>, <span style=\"color: #00af00; text-decoration-color: #00af00\">31</span>, <span style=\"color: #00af00; text-decoration-color: #00af00\">32</span>)          │               <span style=\"color: #00af00; text-decoration-color: #00af00\">0</span> │\n",
       "├──────────────────────────────────────┼─────────────────────────────┼─────────────────┤\n",
       "│ conv2d_1 (<span style=\"color: #0087ff; text-decoration-color: #0087ff\">Conv2D</span>)                    │ (<span style=\"color: #00d7ff; text-decoration-color: #00d7ff\">None</span>, <span style=\"color: #00af00; text-decoration-color: #00af00\">29</span>, <span style=\"color: #00af00; text-decoration-color: #00af00\">29</span>, <span style=\"color: #00af00; text-decoration-color: #00af00\">64</span>)          │          <span style=\"color: #00af00; text-decoration-color: #00af00\">18,496</span> │\n",
       "├──────────────────────────────────────┼─────────────────────────────┼─────────────────┤\n",
       "│ max_pooling2d_1 (<span style=\"color: #0087ff; text-decoration-color: #0087ff\">MaxPooling2D</span>)       │ (<span style=\"color: #00d7ff; text-decoration-color: #00d7ff\">None</span>, <span style=\"color: #00af00; text-decoration-color: #00af00\">14</span>, <span style=\"color: #00af00; text-decoration-color: #00af00\">14</span>, <span style=\"color: #00af00; text-decoration-color: #00af00\">64</span>)          │               <span style=\"color: #00af00; text-decoration-color: #00af00\">0</span> │\n",
       "├──────────────────────────────────────┼─────────────────────────────┼─────────────────┤\n",
       "│ conv2d_2 (<span style=\"color: #0087ff; text-decoration-color: #0087ff\">Conv2D</span>)                    │ (<span style=\"color: #00d7ff; text-decoration-color: #00d7ff\">None</span>, <span style=\"color: #00af00; text-decoration-color: #00af00\">12</span>, <span style=\"color: #00af00; text-decoration-color: #00af00\">12</span>, <span style=\"color: #00af00; text-decoration-color: #00af00\">64</span>)          │          <span style=\"color: #00af00; text-decoration-color: #00af00\">36,928</span> │\n",
       "├──────────────────────────────────────┼─────────────────────────────┼─────────────────┤\n",
       "│ flatten (<span style=\"color: #0087ff; text-decoration-color: #0087ff\">Flatten</span>)                    │ (<span style=\"color: #00d7ff; text-decoration-color: #00d7ff\">None</span>, <span style=\"color: #00af00; text-decoration-color: #00af00\">9216</span>)                │               <span style=\"color: #00af00; text-decoration-color: #00af00\">0</span> │\n",
       "├──────────────────────────────────────┼─────────────────────────────┼─────────────────┤\n",
       "│ dense (<span style=\"color: #0087ff; text-decoration-color: #0087ff\">Dense</span>)                        │ (<span style=\"color: #00d7ff; text-decoration-color: #00d7ff\">None</span>, <span style=\"color: #00af00; text-decoration-color: #00af00\">64</span>)                  │         <span style=\"color: #00af00; text-decoration-color: #00af00\">589,888</span> │\n",
       "├──────────────────────────────────────┼─────────────────────────────┼─────────────────┤\n",
       "│ dense_1 (<span style=\"color: #0087ff; text-decoration-color: #0087ff\">Dense</span>)                      │ (<span style=\"color: #00d7ff; text-decoration-color: #00d7ff\">None</span>, <span style=\"color: #00af00; text-decoration-color: #00af00\">10</span>)                  │             <span style=\"color: #00af00; text-decoration-color: #00af00\">650</span> │\n",
       "└──────────────────────────────────────┴─────────────────────────────┴─────────────────┘\n",
       "</pre>\n"
      ],
      "text/plain": [
       "┏━━━━━━━━━━━━━━━━━━━━━━━━━━━━━━━━━━━━━━┳━━━━━━━━━━━━━━━━━━━━━━━━━━━━━┳━━━━━━━━━━━━━━━━━┓\n",
       "┃\u001b[1m \u001b[0m\u001b[1mLayer (type)                        \u001b[0m\u001b[1m \u001b[0m┃\u001b[1m \u001b[0m\u001b[1mOutput Shape               \u001b[0m\u001b[1m \u001b[0m┃\u001b[1m \u001b[0m\u001b[1m        Param #\u001b[0m\u001b[1m \u001b[0m┃\n",
       "┡━━━━━━━━━━━━━━━━━━━━━━━━━━━━━━━━━━━━━━╇━━━━━━━━━━━━━━━━━━━━━━━━━━━━━╇━━━━━━━━━━━━━━━━━┩\n",
       "│ conv2d (\u001b[38;5;33mConv2D\u001b[0m)                      │ (\u001b[38;5;45mNone\u001b[0m, \u001b[38;5;34m62\u001b[0m, \u001b[38;5;34m62\u001b[0m, \u001b[38;5;34m32\u001b[0m)          │             \u001b[38;5;34m896\u001b[0m │\n",
       "├──────────────────────────────────────┼─────────────────────────────┼─────────────────┤\n",
       "│ max_pooling2d (\u001b[38;5;33mMaxPooling2D\u001b[0m)         │ (\u001b[38;5;45mNone\u001b[0m, \u001b[38;5;34m31\u001b[0m, \u001b[38;5;34m31\u001b[0m, \u001b[38;5;34m32\u001b[0m)          │               \u001b[38;5;34m0\u001b[0m │\n",
       "├──────────────────────────────────────┼─────────────────────────────┼─────────────────┤\n",
       "│ conv2d_1 (\u001b[38;5;33mConv2D\u001b[0m)                    │ (\u001b[38;5;45mNone\u001b[0m, \u001b[38;5;34m29\u001b[0m, \u001b[38;5;34m29\u001b[0m, \u001b[38;5;34m64\u001b[0m)          │          \u001b[38;5;34m18,496\u001b[0m │\n",
       "├──────────────────────────────────────┼─────────────────────────────┼─────────────────┤\n",
       "│ max_pooling2d_1 (\u001b[38;5;33mMaxPooling2D\u001b[0m)       │ (\u001b[38;5;45mNone\u001b[0m, \u001b[38;5;34m14\u001b[0m, \u001b[38;5;34m14\u001b[0m, \u001b[38;5;34m64\u001b[0m)          │               \u001b[38;5;34m0\u001b[0m │\n",
       "├──────────────────────────────────────┼─────────────────────────────┼─────────────────┤\n",
       "│ conv2d_2 (\u001b[38;5;33mConv2D\u001b[0m)                    │ (\u001b[38;5;45mNone\u001b[0m, \u001b[38;5;34m12\u001b[0m, \u001b[38;5;34m12\u001b[0m, \u001b[38;5;34m64\u001b[0m)          │          \u001b[38;5;34m36,928\u001b[0m │\n",
       "├──────────────────────────────────────┼─────────────────────────────┼─────────────────┤\n",
       "│ flatten (\u001b[38;5;33mFlatten\u001b[0m)                    │ (\u001b[38;5;45mNone\u001b[0m, \u001b[38;5;34m9216\u001b[0m)                │               \u001b[38;5;34m0\u001b[0m │\n",
       "├──────────────────────────────────────┼─────────────────────────────┼─────────────────┤\n",
       "│ dense (\u001b[38;5;33mDense\u001b[0m)                        │ (\u001b[38;5;45mNone\u001b[0m, \u001b[38;5;34m64\u001b[0m)                  │         \u001b[38;5;34m589,888\u001b[0m │\n",
       "├──────────────────────────────────────┼─────────────────────────────┼─────────────────┤\n",
       "│ dense_1 (\u001b[38;5;33mDense\u001b[0m)                      │ (\u001b[38;5;45mNone\u001b[0m, \u001b[38;5;34m10\u001b[0m)                  │             \u001b[38;5;34m650\u001b[0m │\n",
       "└──────────────────────────────────────┴─────────────────────────────┴─────────────────┘\n"
      ]
     },
     "metadata": {},
     "output_type": "display_data"
    },
    {
     "data": {
      "text/html": [
       "<pre style=\"white-space:pre;overflow-x:auto;line-height:normal;font-family:Menlo,'DejaVu Sans Mono',consolas,'Courier New',monospace\"><span style=\"font-weight: bold\"> Total params: </span><span style=\"color: #00af00; text-decoration-color: #00af00\">646,858</span> (2.47 MB)\n",
       "</pre>\n"
      ],
      "text/plain": [
       "\u001b[1m Total params: \u001b[0m\u001b[38;5;34m646,858\u001b[0m (2.47 MB)\n"
      ]
     },
     "metadata": {},
     "output_type": "display_data"
    },
    {
     "data": {
      "text/html": [
       "<pre style=\"white-space:pre;overflow-x:auto;line-height:normal;font-family:Menlo,'DejaVu Sans Mono',consolas,'Courier New',monospace\"><span style=\"font-weight: bold\"> Trainable params: </span><span style=\"color: #00af00; text-decoration-color: #00af00\">646,858</span> (2.47 MB)\n",
       "</pre>\n"
      ],
      "text/plain": [
       "\u001b[1m Trainable params: \u001b[0m\u001b[38;5;34m646,858\u001b[0m (2.47 MB)\n"
      ]
     },
     "metadata": {},
     "output_type": "display_data"
    },
    {
     "data": {
      "text/html": [
       "<pre style=\"white-space:pre;overflow-x:auto;line-height:normal;font-family:Menlo,'DejaVu Sans Mono',consolas,'Courier New',monospace\"><span style=\"font-weight: bold\"> Non-trainable params: </span><span style=\"color: #00af00; text-decoration-color: #00af00\">0</span> (0.00 B)\n",
       "</pre>\n"
      ],
      "text/plain": [
       "\u001b[1m Non-trainable params: \u001b[0m\u001b[38;5;34m0\u001b[0m (0.00 B)\n"
      ]
     },
     "metadata": {},
     "output_type": "display_data"
    }
   ],
   "source": [
    "# Ringkasan model\n",
    "model.summary()"
   ]
  },
  {
   "cell_type": "code",
   "execution_count": 6,
   "id": "a265585b",
   "metadata": {},
   "outputs": [],
   "source": [
    "# Kompilasi dan latih model\n",
    "model.compile(optimizer='adam',\n",
    "              loss=tf.keras.losses.SparseCategoricalCrossentropy(from_logits=True),\n",
    "              metrics=['accuracy'])"
   ]
  },
  {
   "cell_type": "code",
   "execution_count": 7,
   "id": "1cbffe9a",
   "metadata": {},
   "outputs": [
    {
     "name": "stdout",
     "output_type": "stream",
     "text": [
      "Epoch 1/10\n",
      "\u001b[1m25/25\u001b[0m \u001b[32m━━━━━━━━━━━━━━━━━━━━\u001b[0m\u001b[37m\u001b[0m \u001b[1m3s\u001b[0m 41ms/step - accuracy: 0.0863 - loss: 2.3358 - val_accuracy: 0.0750 - val_loss: 2.3137\n",
      "Epoch 2/10\n",
      "\u001b[1m25/25\u001b[0m \u001b[32m━━━━━━━━━━━━━━━━━━━━\u001b[0m\u001b[37m\u001b[0m \u001b[1m1s\u001b[0m 29ms/step - accuracy: 0.1029 - loss: 2.3035 - val_accuracy: 0.0850 - val_loss: 2.3120\n",
      "Epoch 3/10\n",
      "\u001b[1m25/25\u001b[0m \u001b[32m━━━━━━━━━━━━━━━━━━━━\u001b[0m\u001b[37m\u001b[0m \u001b[1m1s\u001b[0m 26ms/step - accuracy: 0.1154 - loss: 2.3018 - val_accuracy: 0.0850 - val_loss: 2.3217\n",
      "Epoch 4/10\n",
      "\u001b[1m25/25\u001b[0m \u001b[32m━━━━━━━━━━━━━━━━━━━━\u001b[0m\u001b[37m\u001b[0m \u001b[1m1s\u001b[0m 28ms/step - accuracy: 0.1173 - loss: 2.2944 - val_accuracy: 0.0850 - val_loss: 2.3030\n",
      "Epoch 5/10\n",
      "\u001b[1m25/25\u001b[0m \u001b[32m━━━━━━━━━━━━━━━━━━━━\u001b[0m\u001b[37m\u001b[0m \u001b[1m1s\u001b[0m 26ms/step - accuracy: 0.1252 - loss: 2.2994 - val_accuracy: 0.0650 - val_loss: 2.3100\n",
      "Epoch 6/10\n",
      "\u001b[1m25/25\u001b[0m \u001b[32m━━━━━━━━━━━━━━━━━━━━\u001b[0m\u001b[37m\u001b[0m \u001b[1m1s\u001b[0m 27ms/step - accuracy: 0.1136 - loss: 2.3007 - val_accuracy: 0.0850 - val_loss: 2.3127\n",
      "Epoch 7/10\n",
      "\u001b[1m25/25\u001b[0m \u001b[32m━━━━━━━━━━━━━━━━━━━━\u001b[0m\u001b[37m\u001b[0m \u001b[1m1s\u001b[0m 27ms/step - accuracy: 0.1161 - loss: 2.2998 - val_accuracy: 0.0850 - val_loss: 2.3228\n",
      "Epoch 8/10\n",
      "\u001b[1m25/25\u001b[0m \u001b[32m━━━━━━━━━━━━━━━━━━━━\u001b[0m\u001b[37m\u001b[0m \u001b[1m1s\u001b[0m 28ms/step - accuracy: 0.1195 - loss: 2.2956 - val_accuracy: 0.0850 - val_loss: 2.3084\n",
      "Epoch 9/10\n",
      "\u001b[1m25/25\u001b[0m \u001b[32m━━━━━━━━━━━━━━━━━━━━\u001b[0m\u001b[37m\u001b[0m \u001b[1m1s\u001b[0m 26ms/step - accuracy: 0.1248 - loss: 2.2985 - val_accuracy: 0.0850 - val_loss: 2.3116\n",
      "Epoch 10/10\n",
      "\u001b[1m25/25\u001b[0m \u001b[32m━━━━━━━━━━━━━━━━━━━━\u001b[0m\u001b[37m\u001b[0m \u001b[1m1s\u001b[0m 29ms/step - accuracy: 0.1233 - loss: 2.2945 - val_accuracy: 0.0850 - val_loss: 2.3072\n"
     ]
    }
   ],
   "source": [
    "# Karena ini hanya contoh, kita tidak memiliki label sebenarnya, jadi kita akan menggunakan data acak juga\n",
    "label_acak = np.random.randint(0, 10, jumlah_gambar)\n",
    "\n",
    "# Latih model dengan data gambar acak dan label acak\n",
    "history = model.fit(data_gambar_acak, label_acak, epochs=10, validation_split=0.2)"
   ]
  },
  {
   "cell_type": "code",
   "execution_count": 8,
   "id": "1ba7d685",
   "metadata": {},
   "outputs": [
    {
     "data": {
      "image/png": "[encoded data removed]",
      "text/plain": [
       "<Figure size 640x480 with 1 Axes>"
      ]
     },
     "metadata": {},
     "output_type": "display_data"
    }
   ],
   "source": [
    "# Visualisasi hasil pelatihan\n",
    "plt.plot(history.history['accuracy'], label='accuracy')\n",
    "plt.plot(history.history['val_accuracy'], label = 'val_accuracy')\n",
    "plt.xlabel('Epoch')\n",
    "plt.ylabel('Accuracy')\n",
    "plt.ylim([0, 1])\n",
    "plt.legend(loc='lower right')\n",
    "\n",
    "plt.show()"
   ]
  },
  {
   "cell_type": "code",
   "execution_count": 9,
   "id": "f6219582",
   "metadata": {},
   "outputs": [
    {
     "name": "stdout",
     "output_type": "stream",
     "text": [
      "32/32 - 0s - 10ms/step - accuracy: 0.1110 - loss: 2.2979\n",
      "\n",
      "Test accuracy: 0.11100000143051147\n"
     ]
    }
   ],
   "source": [
    "# Menghitung akurasi pada set pengujian\n",
    "test_loss, test_acc = model.evaluate(data_gambar_acak, label_acak, verbose=2)\n",
    "print(f'\\nTest accuracy: {test_acc}')"
   ]
  },
  {
   "cell_type": "code",
   "execution_count": 10,
   "id": "d6996260",
   "metadata": {},
   "outputs": [
    {
     "name": "stdout",
     "output_type": "stream",
     "text": [
      "\u001b[1m32/32\u001b[0m \u001b[32m━━━━━━━━━━━━━━━━━━━━\u001b[0m\u001b[37m\u001b[0m \u001b[1m0s\u001b[0m 12ms/step\n",
      "Confusion Matrix:\n",
      "[[  0  96   0   0   0   0   0   0   0   0]\n",
      " [  0 111   0   0   0   0   0   0   0   0]\n",
      " [  0 110   0   0   0   0   0   0   0   0]\n",
      " [  0  95   0   0   0   0   0   0   0   0]\n",
      " [  0  98   0   0   0   0   0   0   0   0]\n",
      " [  0 101   0   0   0   0   0   0   0   0]\n",
      " [  0 110   0   0   0   0   0   0   0   0]\n",
      " [  0  81   0   0   0   0   0   0   0   0]\n",
      " [  0 102   0   0   0   0   0   0   0   0]\n",
      " [  0  96   0   0   0   0   0   0   0   0]]\n"
     ]
    }
   ],
   "source": [
    "# Menghitung confusion matrix\n",
    "from sklearn.metrics import confusion_matrix, classification_report\n",
    "prediksi = model.predict(data_gambar_acak)\n",
    "prediksi_label = np.argmax(prediksi, axis=1)\n",
    "conf_matrix = confusion_matrix(label_acak, prediksi_label)\n",
    "print(f'Confusion Matrix:\\n{conf_matrix}')"
   ]
  },
  {
   "cell_type": "code",
   "execution_count": 11,
   "id": "bcfbafaf",
   "metadata": {},
   "outputs": [
    {
     "name": "stdout",
     "output_type": "stream",
     "text": [
      "              precision    recall  f1-score   support\n",
      "\n",
      "           0       0.00      0.00      0.00        96\n",
      "           1       0.11      1.00      0.20       111\n",
      "           2       0.00      0.00      0.00       110\n",
      "           3       0.00      0.00      0.00        95\n",
      "           4       0.00      0.00      0.00        98\n",
      "           5       0.00      0.00      0.00       101\n",
      "           6       0.00      0.00      0.00       110\n",
      "           7       0.00      0.00      0.00        81\n",
      "           8       0.00      0.00      0.00       102\n",
      "           9       0.00      0.00      0.00        96\n",
      "\n",
      "    accuracy                           0.11      1000\n",
      "   macro avg       0.01      0.10      0.02      1000\n",
      "weighted avg       0.01      0.11      0.02      1000\n",
      "\n"
     ]
    },
    {
     "name": "stderr",
     "output_type": "stream",
     "text": [
      "C:\\Users\\alfar\\AppData\\Roaming\\Python\\Python311\\site-packages\\sklearn\\metrics\\_classification.py:1344: UndefinedMetricWarning: Precision and F-score are ill-defined and being set to 0.0 in labels with no predicted samples. Use `zero_division` parameter to control this behavior.\n",
      "  _warn_prf(average, modifier, msg_start, len(result))\n",
      "C:\\Users\\alfar\\AppData\\Roaming\\Python\\Python311\\site-packages\\sklearn\\metrics\\_classification.py:1344: UndefinedMetricWarning: Precision and F-score are ill-defined and being set to 0.0 in labels with no predicted samples. Use `zero_division` parameter to control this behavior.\n",
      "  _warn_prf(average, modifier, msg_start, len(result))\n",
      "C:\\Users\\alfar\\AppData\\Roaming\\Python\\Python311\\site-packages\\sklearn\\metrics\\_classification.py:1344: UndefinedMetricWarning: Precision and F-score are ill-defined and being set to 0.0 in labels with no predicted samples. Use `zero_division` parameter to control this behavior.\n",
      "  _warn_prf(average, modifier, msg_start, len(result))\n"
     ]
    }
   ],
   "source": [
    "# Menghitung precision, recall, dan F1-score\n",
    "print(classification_report(label_acak, prediksi_label))"
   ]
  },
  {
   "cell_type": "code",
   "execution_count": 12,
   "id": "3b576894",
   "metadata": {},
   "outputs": [
    {
     "name": "stdout",
     "output_type": "stream",
     "text": [
      "ROC AUC: 0.7044051925941688\n"
     ]
    }
   ],
   "source": [
    "# Menghitung ROC Curve dan AUC\n",
    "from sklearn.metrics import roc_curve, auc\n",
    "fpr, tpr, thresholds = roc_curve(label_acak, prediksi[:, 1], pos_label=1)\n",
    "roc_auc = auc(fpr, tpr)\n",
    "print(f'ROC AUC: {roc_auc}')"
   ]
  },
  {
   "cell_type": "code",
   "execution_count": 13,
   "id": "03aae3e8",
   "metadata": {},
   "outputs": [
    {
     "name": "stdout",
     "output_type": "stream",
     "text": [
      "\u001b[1m32/32\u001b[0m \u001b[32m━━━━━━━━━━━━━━━━━━━━\u001b[0m\u001b[37m\u001b[0m \u001b[1m0s\u001b[0m 9ms/step\n",
      "ROC AUC: 0.7044051925941688\n"
     ]
    }
   ],
   "source": [
    "# Asumsikan kita memiliki probabilitas prediksi untuk kelas positif\n",
    "probabilitas_prediksi = model.predict(data_gambar_acak)[:, 1]\n",
    "\n",
    "# Hitung ROC Curve\n",
    "fpr, tpr, thresholds = roc_curve(label_acak, probabilitas_prediksi, pos_label=1)\n",
    "\n",
    "# Hitung AUC (Area Under the ROC Curve)\n",
    "roc_auc = auc(fpr, tpr)\n",
    "print(f'ROC AUC: {roc_auc}')"
   ]
  },
  {
   "cell_type": "code",
   "execution_count": 14,
   "id": "d7eaa069",
   "metadata": {},
   "outputs": [
    {
     "data": {
      "image/png": "[encoded data removed]",
      "text/plain": [
       "<Figure size 640x480 with 1 Axes>"
      ]
     },
     "metadata": {},
     "output_type": "display_data"
    }
   ],
   "source": [
    "# Visualisasi ROC Curve\n",
    "plt.figure()\n",
    "plt.plot(fpr, tpr, color='darkorange', lw=2, label=f'ROC curve (area = {roc_auc:.2f})')\n",
    "plt.plot([0, 1], [0, 1], color='navy', lw=2, linestyle='--')\n",
    "plt.xlim([0.0, 1.0])\n",
    "plt.ylim([0.0, 1.05])\n",
    "plt.xlabel('False Positive Rate')\n",
    "plt.ylabel('True Positive Rate')\n",
    "plt.title('Receiver Operating Characteristic')\n",
    "plt.legend(loc='lower right')\n",
    "plt.show()"
   ]
  },
  {
   "cell_type": "markdown",
   "id": "049277d8",
   "metadata": {},
   "source": [
    "Nilai AUC adalah 0.74, yang menunjukkan tingkat akurasi prediktif yang moderat. Nilai AUC berkisar antara 0 hingga 1, di mana nilai 1 menunjukkan model yang sempurna dan nilai 0.5 menunjukkan tidak ada kemampuan diskriminatif."
   ]
  },
  {
   "cell_type": "code",
   "execution_count": 15,
   "id": "24bfc6f4",
   "metadata": {},
   "outputs": [
    {
     "data": {
      "text/plain": [
       "array([[[[0.5488135 , 0.71518937, 0.60276338],\n",
       "         [0.54488318, 0.4236548 , 0.64589411],\n",
       "         [0.43758721, 0.891773  , 0.96366276],\n",
       "         ...,\n",
       "         [0.23789282, 0.934214  , 0.61396596],\n",
       "         [0.5356328 , 0.58990998, 0.73012203],\n",
       "         [0.311945  , 0.39822106, 0.20984375]],\n",
       "\n",
       "        [[0.18619301, 0.94437239, 0.7395508 ],\n",
       "         [0.49045881, 0.22741463, 0.25435648],\n",
       "         [0.05802916, 0.43441663, 0.31179588],\n",
       "         ...,\n",
       "         [0.16053882, 0.79639147, 0.9591666 ],\n",
       "         [0.45813883, 0.59098417, 0.85772264],\n",
       "         [0.45722345, 0.95187448, 0.57575116]],\n",
       "\n",
       "        [[0.82076712, 0.90884372, 0.81552382],\n",
       "         [0.15941446, 0.62889844, 0.39843426],\n",
       "         [0.06271295, 0.42403225, 0.25868407],\n",
       "         ...,\n",
       "         [0.92330607, 0.82989737, 0.96828641],\n",
       "         [0.91978281, 0.03603382, 0.174772  ],\n",
       "         [0.38913468, 0.9521427 , 0.30002892]],\n",
       "\n",
       "        ...,\n",
       "\n",
       "        [[0.64503765, 0.25678483, 0.16040824],\n",
       "         [0.48224357, 0.59983151, 0.64734448],\n",
       "         [0.61153418, 0.29141538, 0.34819863],\n",
       "         ...,\n",
       "         [0.49902338, 0.2282556 , 0.6189803 ],\n",
       "         [0.29956796, 0.18604141, 0.89871993],\n",
       "         [0.43582245, 0.94292757, 0.41472007]],\n",
       "\n",
       "        [[0.01058803, 0.19921799, 0.83535035],\n",
       "         [0.36018628, 0.84637692, 0.38820896],\n",
       "         [0.29672374, 0.80072675, 0.07228869],\n",
       "         ...,\n",
       "         [0.04767203, 0.26951366, 0.59883652],\n",
       "         [0.13162892, 0.12446804, 0.40118658],\n",
       "         [0.10312034, 0.65284113, 0.79042561]],\n",
       "\n",
       "        [[0.47383918, 0.06530433, 0.61230719],\n",
       "         [0.23983447, 0.38003478, 0.1927796 ],\n",
       "         [0.64047687, 0.81892596, 0.85854305],\n",
       "         ...,\n",
       "         [0.51088019, 0.05208583, 0.96920015],\n",
       "         [0.42165461, 0.83378759, 0.30754605],\n",
       "         [0.28712698, 0.60400281, 0.7720906 ]]],\n",
       "\n",
       "\n",
       "       [[[0.32842304, 0.73638843, 0.10578332],\n",
       "         [0.07353678, 0.08972261, 0.28235826],\n",
       "         [0.52148662, 0.29988712, 0.30052984],\n",
       "         ...,\n",
       "         [0.47711054, 0.07483832, 0.89807172],\n",
       "         [0.40822369, 0.35704086, 0.4533443 ],\n",
       "         [0.92292677, 0.91095714, 0.25647738]],\n",
       "\n",
       "        [[0.54906972, 0.43266834, 0.04591842],\n",
       "         [0.52457571, 0.76755516, 0.7728321 ],\n",
       "         [0.73395285, 0.20341135, 0.07320846],\n",
       "         ...,\n",
       "         [0.005266  , 0.87729035, 0.49796174],\n",
       "         [0.57911922, 0.23187248, 0.7760392 ],\n",
       "         [0.36141017, 0.68433189, 0.51581293]],\n",
       "\n",
       "        [[0.84428838, 0.5316782 , 0.84361549],\n",
       "         [0.3297786 , 0.35008627, 0.70847721],\n",
       "         [0.69155634, 0.1111936 , 0.30897958],\n",
       "         ...,\n",
       "         [0.91467662, 0.89414977, 0.60563276],\n",
       "         [0.71271519, 0.58808587, 0.23102052],\n",
       "         [0.75647645, 0.27163158, 0.36562928]],\n",
       "\n",
       "        ...,\n",
       "\n",
       "        [[0.15319619, 0.0328116 , 0.2287953 ],\n",
       "         [0.49924638, 0.29538937, 0.64771481],\n",
       "         [0.93517796, 0.7169902 , 0.18223457],\n",
       "         ...,\n",
       "         [0.34593256, 0.18097697, 0.43180178],\n",
       "         [0.03107298, 0.56420005, 0.27550111],\n",
       "         [0.47405186, 0.27704767, 0.41207166]],\n",
       "\n",
       "        [[0.76207884, 0.381549  , 0.18573893],\n",
       "         [0.91152291, 0.70464903, 0.10801942],\n",
       "         [0.27719057, 0.48266331, 0.6054702 ],\n",
       "         ...,\n",
       "         [0.93045363, 0.53161618, 0.50335041],\n",
       "         [0.86042845, 0.37567885, 0.31842045],\n",
       "         [0.87238322, 0.16785776, 0.78560438]],\n",
       "\n",
       "        [[0.87297041, 0.77109665, 0.47671245],\n",
       "         [0.91960469, 0.13639974, 0.43505021],\n",
       "         [0.96152602, 0.11327206, 0.76452668],\n",
       "         ...,\n",
       "         [0.79248838, 0.35102458, 0.19568133],\n",
       "         [0.89507114, 0.03565205, 0.2195484 ],\n",
       "         [0.01518118, 0.68591554, 0.9596439 ]]],\n",
       "\n",
       "\n",
       "       [[[0.98563938, 0.54891219, 0.82989982],\n",
       "         [0.82799084, 0.2071212 , 0.51838315],\n",
       "         [0.28452054, 0.77352742, 0.77119191],\n",
       "         ...,\n",
       "         [0.23268938, 0.20201706, 0.96917059],\n",
       "         [0.08409187, 0.99306396, 0.06813684],\n",
       "         [0.94158379, 0.84430898, 0.21744824]],\n",
       "\n",
       "        [[0.82241824, 0.67943634, 0.01357616],\n",
       "         [0.58342583, 0.04624352, 0.52913522],\n",
       "         [0.29019071, 0.44805041, 0.30692493],\n",
       "         ...,\n",
       "         [0.67252034, 0.99827316, 0.85894275],\n",
       "         [0.49440392, 0.8835016 , 0.09249846],\n",
       "         [0.86105226, 0.66416747, 0.54669351]],\n",
       "\n",
       "        [[0.63122306, 0.48334296, 0.20681906],\n",
       "         [0.28263895, 0.38408853, 0.83209355],\n",
       "         [0.39997175, 0.07416205, 0.57410554],\n",
       "         ...,\n",
       "         [0.11612053, 0.53360264, 0.25982908],\n",
       "         [0.32623759, 0.7400584 , 0.89664693],\n",
       "         [0.22680273, 0.88186684, 0.78069009]],\n",
       "\n",
       "        ...,\n",
       "\n",
       "        [[0.34340135, 0.61657166, 0.68235279],\n",
       "         [0.26575187, 0.90078533, 0.77624651],\n",
       "         [0.62696605, 0.12374245, 0.43240641],\n",
       "         ...,\n",
       "         [0.98272622, 0.40361672, 0.59449976],\n",
       "         [0.32786036, 0.83702547, 0.43066134],\n",
       "         [0.99287276, 0.06777053, 0.54301023]],\n",
       "\n",
       "        [[0.65633757, 0.40906228, 0.12621734],\n",
       "         [0.19334142, 0.85782301, 0.99839154],\n",
       "         [0.26048648, 0.34211138, 0.0341921 ],\n",
       "         ...,\n",
       "         [0.96386981, 0.14686967, 0.22209008],\n",
       "         [0.47052878, 0.17830485, 0.49804612],\n",
       "         [0.78227009, 0.25424495, 0.07370566]],\n",
       "\n",
       "        [[0.3614242 , 0.19039513, 0.90152444],\n",
       "         [0.40913824, 0.47750197, 0.50040787],\n",
       "         [0.28505338, 0.96223176, 0.67428931],\n",
       "         ...,\n",
       "         [0.75148737, 0.01597355, 0.70950348],\n",
       "         [0.39534861, 0.62691222, 0.94248584],\n",
       "         [0.82393245, 0.07504744, 0.52587993]]],\n",
       "\n",
       "\n",
       "       ...,\n",
       "\n",
       "\n",
       "       [[[0.55343043, 0.02148933, 0.6790504 ],\n",
       "         [0.59366224, 0.02676709, 0.79837739],\n",
       "         [0.82070083, 0.15751864, 0.24254986],\n",
       "         ...,\n",
       "         [0.79045081, 0.91655966, 0.68973357],\n",
       "         [0.42785543, 0.53250756, 0.23146492],\n",
       "         [0.32516431, 0.90937439, 0.50228142]],\n",
       "\n",
       "        [[0.9426402 , 0.97894241, 0.73943346],\n",
       "         [0.7357426 , 0.71093571, 0.7086046 ],\n",
       "         [0.56578694, 0.88558126, 0.14974215],\n",
       "         ...,\n",
       "         [0.98880538, 0.81785264, 0.06741941],\n",
       "         [0.40006146, 0.5103743 , 0.09624625],\n",
       "         [0.4027121 , 0.69021763, 0.54333509]],\n",
       "\n",
       "        [[0.18668331, 0.09448767, 0.65783213],\n",
       "         [0.15065232, 0.09606823, 0.79770042],\n",
       "         [0.05523709, 0.1504382 , 0.44572166],\n",
       "         ...,\n",
       "         [0.53416922, 0.09290288, 0.60960968],\n",
       "         [0.41498432, 0.98728615, 0.28161673],\n",
       "         [0.98822879, 0.46486517, 0.24213293]],\n",
       "\n",
       "        ...,\n",
       "\n",
       "        [[0.50809972, 0.29939074, 0.60757705],\n",
       "         [0.09034301, 0.86709408, 0.71798035],\n",
       "         [0.40838153, 0.67101645, 0.33344384],\n",
       "         ...,\n",
       "         [0.93987805, 0.67540333, 0.51121075],\n",
       "         [0.72415051, 0.40400165, 0.98480911],\n",
       "         [0.57018134, 0.397651  , 0.77675152]],\n",
       "\n",
       "        [[0.35287057, 0.84788378, 0.07551125],\n",
       "         [0.30786224, 0.1576244 , 0.88914755],\n",
       "         [0.57696832, 0.47305265, 0.5087992 ],\n",
       "         ...,\n",
       "         [0.44704237, 0.88941278, 0.37187253],\n",
       "         [0.41282163, 0.18086984, 0.93707965],\n",
       "         [0.21026122, 0.34195591, 0.94838986]],\n",
       "\n",
       "        [[0.48451863, 0.95052164, 0.59493547],\n",
       "         [0.40370284, 0.5564793 , 0.10882531],\n",
       "         [0.10662817, 0.77573353, 0.1259411 ],\n",
       "         ...,\n",
       "         [0.416228  , 0.5400131 , 0.9358918 ],\n",
       "         [0.82272658, 0.43264681, 0.85864277],\n",
       "         [0.04065122, 0.82491516, 0.02101592]]],\n",
       "\n",
       "\n",
       "       [[[0.1969651 , 0.56904096, 0.10905935],\n",
       "         [0.38214541, 0.00149678, 0.7757645 ],\n",
       "         [0.78244435, 0.43731335, 0.70206405],\n",
       "         ...,\n",
       "         [0.2009866 , 0.28071773, 0.69856415],\n",
       "         [0.26303924, 0.58116665, 0.79104982],\n",
       "         [0.57657347, 0.36877317, 0.47154246]],\n",
       "\n",
       "        [[0.83351582, 0.63291293, 0.76801922],\n",
       "         [0.73806929, 0.3639445 , 0.95780721],\n",
       "         [0.83358577, 0.00787084, 0.85337868],\n",
       "         ...,\n",
       "         [0.14303232, 0.88812535, 0.50048013],\n",
       "         [0.61192647, 0.52076999, 0.84394006],\n",
       "         [0.49959572, 0.2807523 , 0.48623351]],\n",
       "\n",
       "        [[0.03076899, 0.79571331, 0.07251234],\n",
       "         [0.7906983 , 0.88487881, 0.13885578],\n",
       "         [0.21068855, 0.13419729, 0.41303314],\n",
       "         ...,\n",
       "         [0.40732498, 0.40697719, 0.8475576 ],\n",
       "         [0.20009129, 0.54513766, 0.63941826],\n",
       "         [0.72176115, 0.78385205, 0.42592968]],\n",
       "\n",
       "        ...,\n",
       "\n",
       "        [[0.39658688, 0.21801989, 0.8432135 ],\n",
       "         [0.06151652, 0.28462596, 0.72707832],\n",
       "         [0.41509655, 0.69240517, 0.41039828],\n",
       "         ...,\n",
       "         [0.51995345, 0.24054893, 0.42802907],\n",
       "         [0.00917733, 0.09337387, 0.59077158],\n",
       "         [0.4915752 , 0.59912742, 0.12796697]],\n",
       "\n",
       "        [[0.75361947, 0.64162506, 0.81763221],\n",
       "         [0.91893734, 0.06060656, 0.88525055],\n",
       "         [0.11343947, 0.60518349, 0.63698579],\n",
       "         ...,\n",
       "         [0.47268489, 0.53381796, 0.78618755],\n",
       "         [0.85820501, 0.58696001, 0.30560517],\n",
       "         [0.8066073 , 0.45383358, 0.14784806]],\n",
       "\n",
       "        [[0.36212013, 0.44520361, 0.17878627],\n",
       "         [0.60001294, 0.50367811, 0.35416388],\n",
       "         [0.22732128, 0.96476356, 0.9652893 ],\n",
       "         ...,\n",
       "         [0.19634265, 0.66367164, 0.78239678],\n",
       "         [0.92605566, 0.38850471, 0.08863464],\n",
       "         [0.99398372, 0.82849638, 0.81947879]]],\n",
       "\n",
       "\n",
       "       [[[0.11238535, 0.95694364, 0.326399  ],\n",
       "         [0.59157933, 0.50761557, 0.35399861],\n",
       "         [0.96132951, 0.27916567, 0.70706915],\n",
       "         ...,\n",
       "         [0.50110008, 0.05838715, 0.62817974],\n",
       "         [0.26440869, 0.14727066, 0.67776785],\n",
       "         [0.91742368, 0.90234585, 0.4248773 ]],\n",
       "\n",
       "        [[0.5560772 , 0.2962079 , 0.70557702],\n",
       "         [0.59942032, 0.65279445, 0.36387926],\n",
       "         [0.72059628, 0.23988922, 0.72562733],\n",
       "         ...,\n",
       "         [0.2951618 , 0.27910805, 0.75591962],\n",
       "         [0.29575314, 0.5399963 , 0.65204788],\n",
       "         [0.93898905, 0.24259545, 0.41051451]],\n",
       "\n",
       "        [[0.68345526, 0.32267212, 0.68751839],\n",
       "         [0.57028331, 0.27763693, 0.38096062],\n",
       "         [0.44007608, 0.56812269, 0.32974553],\n",
       "         ...,\n",
       "         [0.19433081, 0.60612744, 0.64765965],\n",
       "         [0.10864488, 0.8673375 , 0.09360808],\n",
       "         [0.04029565, 0.99225119, 0.68793078]],\n",
       "\n",
       "        ...,\n",
       "\n",
       "        [[0.33004921, 0.87249133, 0.32458018],\n",
       "         [0.64116343, 0.11504797, 0.23318904],\n",
       "         [0.3585595 , 0.1743693 , 0.08718317],\n",
       "         ...,\n",
       "         [0.68267904, 0.76809978, 0.43254802],\n",
       "         [0.51729394, 0.12385703, 0.91436712],\n",
       "         [0.44460668, 0.06348415, 0.37328596]],\n",
       "\n",
       "        [[0.15386486, 0.68253894, 0.39825451],\n",
       "         [0.09422029, 0.06382219, 0.91304365],\n",
       "         [0.86016756, 0.96777523, 0.5432422 ],\n",
       "         ...,\n",
       "         [0.10374315, 0.79264458, 0.32593843],\n",
       "         [0.82588853, 0.21594331, 0.22830916],\n",
       "         [0.69229016, 0.40818117, 0.02632982]],\n",
       "\n",
       "        [[0.27735598, 0.32010571, 0.15076041],\n",
       "         [0.67090472, 0.95865231, 0.64178918],\n",
       "         [0.9336463 , 0.97971117, 0.69781093],\n",
       "         ...,\n",
       "         [0.9179311 , 0.7334861 , 0.16452068],\n",
       "         [0.78014117, 0.3940687 , 0.32918042],\n",
       "         [0.6432398 , 0.60479405, 0.29816389]]]])"
      ]
     },
     "execution_count": 15,
     "metadata": {},
     "output_type": "execute_result"
    }
   ],
   "source": [
    "data_gambar_acak"
   ]
  },
  {
   "cell_type": "code",
   "execution_count": null,
   "id": "a05ad4ff",
   "metadata": {},
   "outputs": [],
   "source": []
  }
 ],
 "metadata": {
  "kernelspec": {
   "display_name": "Python 3 (ipykernel)",
   "language": "python",
   "name": "python3"
  },
  "language_info": {
   "codemirror_mode": {
    "name": "ipython",
    "version": 3
   },
   "file_extension": ".py",
   "mimetype": "text/x-python",
   "name": "python",
   "nbconvert_exporter": "python",
   "pygments_lexer": "ipython3",
   "version": "3.11.5"
  }
 },
 "nbformat": 4,
 "nbformat_minor": 5
}
