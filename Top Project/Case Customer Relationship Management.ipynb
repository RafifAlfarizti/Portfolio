{
 "cells": [
  {
   "cell_type": "code",
   "execution_count": 1,
   "id": "98602afc",
   "metadata": {},
   "outputs": [],
   "source": [
    "import pandas as pd\n",
    "import numpy as np\n",
    "from sklearn.cluster import KMeans\n",
    "from sklearn.metrics import silhouette_score"
   ]
  },
  {
   "cell_type": "code",
   "execution_count": 2,
   "id": "262cf3c4",
   "metadata": {},
   "outputs": [],
   "source": [
    "# Menghasilkan data pelanggan acak\n",
    "np.random.seed(42)\n",
    "customer_data = pd.DataFrame({\n",
    "    'Customer_ID': np.arange(1, 501),\n",
    "    'Total_Spend': np.random.gamma(shape=2, scale=500, size=500).round(2),\n",
    "    'Total_Transactions': np.random.poisson(lam=5, size=500),\n",
    "    'Days_Since_Last_Purchase': np.random.randint(1, 365, size=500)\n",
    "})"
   ]
  },
  {
   "cell_type": "code",
   "execution_count": 3,
   "id": "040c95f6",
   "metadata": {},
   "outputs": [
    {
     "name": "stderr",
     "output_type": "stream",
     "text": [
      "C:\\Users\\alfar\\AppData\\Roaming\\Python\\Python311\\site-packages\\sklearn\\cluster\\_kmeans.py:870: FutureWarning: The default value of `n_init` will change from 10 to 'auto' in 1.4. Set the value of `n_init` explicitly to suppress the warning\n",
      "  warnings.warn(\n",
      "C:\\Users\\alfar\\AppData\\Roaming\\Python\\Python311\\site-packages\\sklearn\\cluster\\_kmeans.py:1382: UserWarning: KMeans is known to have a memory leak on Windows with MKL, when there are less chunks than available threads. You can avoid it by setting the environment variable OMP_NUM_THREADS=2.\n",
      "  warnings.warn(\n"
     ]
    }
   ],
   "source": [
    "# Segmentasi Pelanggan dengan K-Means Clustering\n",
    "kmeans = KMeans(n_clusters=5, random_state=42)\n",
    "customer_data['Segment'] = kmeans.fit_predict(customer_data[['Total_Spend', 'Total_Transactions', 'Days_Since_Last_Purchase']])\n",
    "silhouette_avg = silhouette_score(customer_data[['Total_Spend', 'Total_Transactions', 'Days_Since_Last_Purchase']], customer_data['Segment'])"
   ]
  },
  {
   "cell_type": "code",
   "execution_count": 5,
   "id": "ae3916c1",
   "metadata": {},
   "outputs": [],
   "source": [
    "# Menghitung CLV (Customer Lifetime Value)\n",
    "# Asumsi: margin keuntungan rata-rata per transaksi dan rata-rata umur pelanggan\n",
    "average_profit_margin_per_transaction = 0.10\n",
    "average_customer_lifespan = 10  # dalam tahun\n",
    "\n",
    "customer_data['CLV'] = (customer_data['Total_Spend'] * average_profit_margin_per_transaction) * average_customer_lifespan"
   ]
  },
  {
   "cell_type": "code",
   "execution_count": 7,
   "id": "032364c0",
   "metadata": {},
   "outputs": [],
   "source": [
    "# Analisis Tingkat Kepuasan Pelanggan\n",
    "# Asumsi: skor kepuasan didasarkan pada frekuensi transaksi dan hari sejak pembelian terakhir\n",
    "customer_data['Satisfaction_Score'] = np.where(customer_data['Days_Since_Last_Purchase'] < 30, 'High',\n",
    "                                                np.where(customer_data['Total_Transactions'] > 5, 'Medium', 'Low'))"
   ]
  },
  {
   "cell_type": "code",
   "execution_count": 8,
   "id": "f11cf489",
   "metadata": {},
   "outputs": [
    {
     "name": "stdout",
     "output_type": "stream",
     "text": [
      "Silhouette Score untuk segmentasi: 0.46\n",
      "Rata-rata CLV per segmen:\n",
      "Segment\n",
      "0    1423.074653\n",
      "1     384.652784\n",
      "2    3014.337647\n",
      "3    2119.492558\n",
      "4     871.397485\n",
      "Name: CLV, dtype: float64\n",
      "Distribusi Skor Kepuasan Pelanggan:\n",
      "Satisfaction_Score\n",
      "Low       284\n",
      "Medium    170\n",
      "High       46\n",
      "Name: count, dtype: int64\n"
     ]
    }
   ],
   "source": [
    "# Interpretasi hasil\n",
    "print(f\"Silhouette Score untuk segmentasi: {silhouette_avg:.2f}\")\n",
    "print(\"Rata-rata CLV per segmen:\")\n",
    "print(customer_data.groupby('Segment')['CLV'].mean())\n",
    "print(\"Distribusi Skor Kepuasan Pelanggan:\")\n",
    "print(customer_data['Satisfaction_Score'].value_counts())"
   ]
  },
  {
   "cell_type": "markdown",
   "id": "1787a0a8",
   "metadata": {},
   "source": [
    "Interpretasi:\n",
    "Silhouette Score mendekati 1 menunjukkan segmentasi yang baik.\n",
    "CLV yang lebih tinggi menunjukkan pelanggan yang lebih berharga dalam jangka panjang.\n",
    "Distribusi skor kepuasan dapat membantu dalam menargetkan upaya peningkatan layanan pelanggan."
   ]
  },
  {
   "cell_type": "code",
   "execution_count": null,
   "id": "00a574d0",
   "metadata": {},
   "outputs": [],
   "source": []
  }
 ],
 "metadata": {
  "kernelspec": {
   "display_name": "Python 3 (ipykernel)",
   "language": "python",
   "name": "python3"
  },
  "language_info": {
   "codemirror_mode": {
    "name": "ipython",
    "version": 3
   },
   "file_extension": ".py",
   "mimetype": "text/x-python",
   "name": "python",
   "nbconvert_exporter": "python",
   "pygments_lexer": "ipython3",
   "version": "3.11.5"
  }
 },
 "nbformat": 4,
 "nbformat_minor": 5
}
