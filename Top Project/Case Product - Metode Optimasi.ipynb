{
 "cells": [
  {
   "cell_type": "markdown",
   "id": "93ad7d14",
   "metadata": {},
   "source": [
    "c: Ini adalah array yang berisi koefisien dari fungsi tujuan yang ingin kita maksimalkan atau minimalkan. Dalam contoh ini, c = [-1, -2] berarti kita ingin memaksimalkan keuntungan dengan koefisien keuntungan untuk dua produk yang berbeda. Tanda negatif menunjukkan bahwa kita mencari maksimum karena fungsi linprog secara default melakukan minimisasi.\n",
    "\n",
    "A: Ini adalah matriks yang berisi koefisien dari batasan-batasan yang tidak boleh dilanggar. Dalam contoh ini, A = [[2, 1], [1, 1], [1, 0]] merepresentasikan tiga batasan yang berbeda untuk dua variabel (misalnya, dua jenis produk). Setiap baris mewakili satu batasan, dan setiap kolom mewakili koefisien dari variabel terkait dalam batasan tersebut.\n",
    "\n",
    "b: Ini adalah vektor yang berisi nilai-nilai batas atas untuk batasan-batasan yang didefinisikan dalam matriks A. Dalam contoh ini, b = [20, 16, 4] berarti setiap batasan yang didefinisikan dalam matriks A memiliki batas atas tertentu yang tidak boleh dilampaui oleh kombinasi variabel"
   ]
  },
  {
   "cell_type": "markdown",
   "id": "bd61b19b",
   "metadata": {},
   "source": [
    "Secara bersamaan, A, b, dan c digunakan untuk mendefinisikan masalah optimisasi linear di mana kita mencari nilai-nilai dari variabel yang akan memaksimalkan (atau meminimalkan) fungsi tujuan (dalam hal ini, keuntungan) sambil mematuhi serangkaian batasan yang diberikan."
   ]
  },
  {
   "cell_type": "code",
   "execution_count": 1,
   "id": "d1ee7488",
   "metadata": {},
   "outputs": [
    {
     "name": "stdout",
     "output_type": "stream",
     "text": [
      "        message: Optimization terminated successfully. (HiGHS Status 7: Optimal)\n",
      "        success: True\n",
      "         status: 0\n",
      "            fun: -32.0\n",
      "              x: [ 0.000e+00  1.600e+01]\n",
      "            nit: 1\n",
      "          lower:  residual: [ 0.000e+00  1.600e+01]\n",
      "                 marginals: [ 1.000e+00  0.000e+00]\n",
      "          upper:  residual: [       inf        inf]\n",
      "                 marginals: [ 0.000e+00  0.000e+00]\n",
      "          eqlin:  residual: []\n",
      "                 marginals: []\n",
      "        ineqlin:  residual: [ 4.000e+00  0.000e+00  4.000e+00]\n",
      "                 marginals: [-0.000e+00 -2.000e+00 -0.000e+00]\n",
      " mip_node_count: 0\n",
      " mip_dual_bound: 0.0\n",
      "        mip_gap: 0.0\n"
     ]
    }
   ],
   "source": [
    "from scipy.optimize import linprog\n",
    "\n",
    "# Contoh data\n",
    "c = [-1, -2]  # Koefisien fungsi tujuan (misalnya, keuntungan)\n",
    "A = [[2, 1], [1, 1], [1, 0]]  # Koefisien batasan\n",
    "b = [20, 16, 4]  # Batas sumber daya\n",
    "x0_bounds = (0, None)  # Batasan untuk variabel x0\n",
    "x1_bounds = (0, None)  # Batasan untuk variabel x1\n",
    "\n",
    "# Menyelesaikan masalah optimasi\n",
    "result = linprog(c, A_ub=A, b_ub=b, bounds=[x0_bounds, x1_bounds], method='highs')\n",
    "\n",
    "print(result)"
   ]
  },
  {
   "cell_type": "code",
   "execution_count": null,
   "id": "2a4011bc",
   "metadata": {},
   "outputs": [],
   "source": []
  }
 ],
 "metadata": {
  "kernelspec": {
   "display_name": "Python 3 (ipykernel)",
   "language": "python",
   "name": "python3"
  },
  "language_info": {
   "codemirror_mode": {
    "name": "ipython",
    "version": 3
   },
   "file_extension": ".py",
   "mimetype": "text/x-python",
   "name": "python",
   "nbconvert_exporter": "python",
   "pygments_lexer": "ipython3",
   "version": "3.11.5"
  }
 },
 "nbformat": 4,
 "nbformat_minor": 5
}
