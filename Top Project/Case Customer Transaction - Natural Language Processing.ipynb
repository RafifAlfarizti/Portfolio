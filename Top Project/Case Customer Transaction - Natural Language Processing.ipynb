{
 "cells": [
  {
   "cell_type": "markdown",
   "id": "e8e7a1a5",
   "metadata": {},
   "source": [
    "1. Nama: Ini adalah nama lengkap nasabah bank yang dihasilkan secara acak menggunakan pustaka Faker.\n",
    "2. Alamat: Ini adalah alamat tempat tinggal nasabah yang juga dihasilkan secara acak dengan Faker. Alamat ini tidak nyata dan hanya untuk tujuan simulasi.\n",
    "3. Saldo: Ini adalah jumlah saldo yang dimiliki nasabah di rekening banknya. Angka ini dihasilkan secara acak dengan nilai antara 1.000 hingga 100.000 dan dibulatkan hingga dua desimal.\n",
    "4. Tanggal_Transaksi: Ini adalah tanggal kapan transaksi terjadi. Tanggal ini dihasilkan secara acak dan berada dalam rentang dekade terkini.\n",
    "5. Deskripsi_Transaksi: Ini adalah deskripsi singkat tentang transaksi yang dilakukan, seperti “pembelian barang” atau “transfer dana”. Deskripsi ini dihasilkan secara acak dengan menggunakan Faker untuk mensimulasikan jenis-jenis transaksi yang mungkin terjadi.\n",
    "6. Jumlah_Transaksi: Ini adalah jumlah uang yang ditransaksikan, baik itu pengeluaran (nilai negatif) atau pemasukan (nilai positif). Nilai ini dihasilkan secara acak dengan rentang antara -5.000 hingga 5.000 dan dibulatkan hingga dua desimal.\n"
   ]
  },
  {
   "cell_type": "markdown",
   "id": "7d03b736",
   "metadata": {},
   "source": [
    "Deskripsi Transaksi dijadikan patokan analisis sentimen untuk memahami Persepsi Nasabah: Analisis sentimen dapat membantu bank memahami bagaimana nasabah merasakan layanan mereka, apakah positif, negatif, atau netral."
   ]
  },
  {
   "cell_type": "code",
   "execution_count": 1,
   "id": "79bc9cc9",
   "metadata": {},
   "outputs": [
    {
     "name": "stdout",
     "output_type": "stream",
     "text": [
      "                    Nama                                             Alamat  \\\n",
      "0           Joshua Grant  261 Noah Junction Suite 828\\nWest Loriside, UT...   \n",
      "1             Adam Gomez             1115 Roberts Points\\nAmyfurt, OH 63421   \n",
      "2  Dr. Kristen Quinn DDS  990 Hill Junction Apt. 533\\nNew Ronniefurt, WV...   \n",
      "3         William Archer  4198 Stevens Plains Apt. 327\\nNatalieville, VT...   \n",
      "4         Edward Morales                           USS Morrow\\nFPO AP 72407   \n",
      "\n",
      "      Saldo Tanggal_Transaksi  \\\n",
      "0   3884.05        2021-07-22   \n",
      "1  74790.51        2023-12-29   \n",
      "2  34356.92        2023-02-15   \n",
      "3  69299.01        2020-11-07   \n",
      "4  21018.78        2021-04-13   \n",
      "\n",
      "                                 Deskripsi_Transaksi  Jumlah_Transaksi  \n",
      "0                  Statement customer war wall film.           2939.05  \n",
      "1                      Identify build support worry.           -904.81  \n",
      "2  Bag thought herself manager quality industry c...          -3327.67  \n",
      "3  Alone question believe analysis actually quick...           2719.83  \n",
      "4                     Success home when design hair.           -808.71  \n"
     ]
    }
   ],
   "source": [
    "import pandas as pd\n",
    "import numpy as np\n",
    "import random\n",
    "from faker import Faker\n",
    "\n",
    "fake = Faker()\n",
    "\n",
    "# Fungsi untuk menghasilkan data nasabah secara acak\n",
    "def generate_bank_data(num_records):\n",
    "    data = []\n",
    "    for _ in range(num_records):\n",
    "        data.append({\n",
    "            \"Nama\": fake.name(),\n",
    "            \"Alamat\": fake.address(),\n",
    "            \"Saldo\": round(random.uniform(1000, 100000), 2),\n",
    "            \"Tanggal_Transaksi\": fake.date_this_decade(),\n",
    "            \"Deskripsi_Transaksi\": fake.sentence(),\n",
    "            \"Jumlah_Transaksi\": round(random.uniform(-5000, 5000), 2)\n",
    "        })\n",
    "    return pd.DataFrame(data)\n",
    "\n",
    "# Menghasilkan 100 data nasabah\n",
    "bank_data = generate_bank_data(100)\n",
    "print(bank_data.head())\n"
   ]
  },
  {
   "cell_type": "code",
   "execution_count": 2,
   "id": "f7d8776e",
   "metadata": {},
   "outputs": [
    {
     "name": "stderr",
     "output_type": "stream",
     "text": [
      "[nltk_data] Downloading package vader_lexicon to\n",
      "[nltk_data]     C:\\Users\\alfar\\AppData\\Roaming\\nltk_data...\n"
     ]
    },
    {
     "name": "stdout",
     "output_type": "stream",
     "text": [
      "                                 Deskripsi_Transaksi  Sentimen\n",
      "0                  Statement customer war wall film.   -0.5994\n",
      "1                      Identify build support worry.   -0.0516\n",
      "2  Bag thought herself manager quality industry c...    0.0000\n",
      "3  Alone question believe analysis actually quick...   -0.2500\n",
      "4                     Success home when design hair.    0.5719\n"
     ]
    }
   ],
   "source": [
    "import nltk\n",
    "from nltk.sentiment import SentimentIntensityAnalyzer\n",
    "\n",
    "# Pastikan Anda telah mendownload vader_lexicon terlebih dahulu\n",
    "nltk.download('vader_lexicon')\n",
    "\n",
    "sia = SentimentIntensityAnalyzer()\n",
    "\n",
    "# Fungsi untuk menganalisis sentimen deskripsi transaksi\n",
    "def analyze_sentiments(dataframe):\n",
    "    dataframe['Sentimen'] = dataframe['Deskripsi_Transaksi'].apply(lambda x: sia.polarity_scores(x)['compound'])\n",
    "    return dataframe\n",
    "\n",
    "# Menerapkan analisis sentimen pada data\n",
    "analyzed_data = analyze_sentiments(bank_data)\n",
    "print(analyzed_data[['Deskripsi_Transaksi', 'Sentimen']].head())"
   ]
  },
  {
   "cell_type": "code",
   "execution_count": null,
   "id": "160c0987",
   "metadata": {},
   "outputs": [],
   "source": []
  }
 ],
 "metadata": {
  "kernelspec": {
   "display_name": "Python 3 (ipykernel)",
   "language": "python",
   "name": "python3"
  },
  "language_info": {
   "codemirror_mode": {
    "name": "ipython",
    "version": 3
   },
   "file_extension": ".py",
   "mimetype": "text/x-python",
   "name": "python",
   "nbconvert_exporter": "python",
   "pygments_lexer": "ipython3",
   "version": "3.11.5"
  }
 },
 "nbformat": 4,
 "nbformat_minor": 5
}
